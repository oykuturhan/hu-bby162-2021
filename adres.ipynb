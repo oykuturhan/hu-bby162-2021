{
  "nbformat": 4,
  "nbformat_minor": 0,
  "metadata": {
    "colab": {
      "name": "Untitled0.ipynb",
      "provenance": [],
      "collapsed_sections": [],
      "authorship_tag": "ABX9TyP2BWO2n484qkotBYlC+LKW",
      "include_colab_link": true
    },
    "kernelspec": {
      "name": "python3",
      "display_name": "Python 3"
    },
    "language_info": {
      "name": "python"
    }
  },
  "cells": [
    {
      "cell_type": "markdown",
      "metadata": {
        "id": "view-in-github",
        "colab_type": "text"
      },
      "source": [
        "<a href=\"https://colab.research.google.com/github/oykuturhan/hu-bby162-2021/blob/main/adres.ipynb\" target=\"_parent\"><img src=\"https://colab.research.google.com/assets/colab-badge.svg\" alt=\"Open In Colab\"/></a>"
      ]
    },
    {
      "cell_type": "code",
      "metadata": {
        "colab": {
          "base_uri": "https://localhost:8080/"
        },
        "id": "C8p9Vmgk2otn",
        "outputId": "3b8a4a7a-7237-4a45-d437-89fd79ea012d"
      },
      "source": [
        "dosya = \"/content/adres.txt\"\n",
        "f = open(dosya, 'a')\n",
        "bilgiler = input(\"İstenilen bilgi\")\n",
        "f.write (bilgiler + \"\\n\")\n",
        "f.close()\n",
        "f = open(dosya, 'r')\n",
        "for line in f. readlines():\n",
        "  print(line)\n",
        "f.close()"
      ],
      "execution_count": 41,
      "outputs": [
        {
          "output_type": "stream",
          "text": [
            "İstenilen bilgi oyku.ardahan.75@gmail.com\n",
            " Öykü Işıl\n",
            "\n",
            " Turhan\n",
            "\n",
            " oyku.ardahan.75@gmail.com\n",
            "\n"
          ],
          "name": "stdout"
        }
      ]
    }
  ]
}