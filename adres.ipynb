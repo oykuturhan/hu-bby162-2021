{
  "nbformat": 4,
  "nbformat_minor": 0,
  "metadata": {
    "colab": {
      "name": "adres.ipynb",
      "provenance": [],
      "collapsed_sections": [],
      "mount_file_id": "1Ns4IXmDKsb-s6-AMgisRRcBBY7b1IrRT",
      "authorship_tag": "ABX9TyOGbih5Bup2FYZelYPLxtcv",
      "include_colab_link": true
    },
    "kernelspec": {
      "name": "python3",
      "display_name": "Python 3"
    },
    "language_info": {
      "name": "python"
    }
  },
  "cells": [
    {
      "cell_type": "markdown",
      "metadata": {
        "id": "view-in-github",
        "colab_type": "text"
      },
      "source": [
        "<a href=\"https://colab.research.google.com/github/oykuturhan/hu-bby162-2021/blob/main/adres.ipynb\" target=\"_parent\"><img src=\"https://colab.research.google.com/assets/colab-badge.svg\" alt=\"Open In Colab\"/></a>"
      ]
    },
    {
      "cell_type": "code",
      "metadata": {
        "id": "C8p9Vmgk2otn",
        "colab": {
          "base_uri": "https://localhost:8080/"
        },
        "outputId": "2336834d-133a-49db-949e-165c4e769267"
      },
      "source": [
        "dosya = \"/content/drive/MyDrive/metin.txt\"\n",
        "f = open(dosya, 'a')\n",
        "bilgiler = input(\"İstenilen bilgi\")\n",
        "f.write (bilgiler + \"\\n\")\n",
        "f.close()\n",
        "f = open(dosya, 'r')\n",
        "for line in f. readlines():\n",
        " print(line)\n",
        "f.close()"
      ],
      "execution_count": 3,
      "outputs": [
        {
          "output_type": "stream",
          "text": [
            "İstenilen bilgi oyku.ardahan.75@gmail.com\n",
            " Öykü Işıl Turhan\n",
            "\n",
            " 21923802\n",
            "\n",
            " oyku.ardahan.75@gmail.com\n",
            "\n"
          ],
          "name": "stdout"
        }
      ]
    }
  ]
}