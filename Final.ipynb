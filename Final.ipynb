{
  "nbformat": 4,
  "nbformat_minor": 0,
  "metadata": {
    "colab": {
      "name": "Final.ipynb ",
      "provenance": [],
      "collapsed_sections": [],
      "mount_file_id": "19m3tUXqdOHC0pKoUF8P5tmd_BgLMHleI",
      "authorship_tag": "ABX9TyNkmMN9FZu18ZB7WPQ7ZE3A",
      "include_colab_link": true
    },
    "kernelspec": {
      "name": "python3",
      "display_name": "Python 3"
    },
    "language_info": {
      "name": "python"
    }
  },
  "cells": [
    {
      "cell_type": "markdown",
      "metadata": {
        "id": "view-in-github",
        "colab_type": "text"
      },
      "source": [
        "<a href=\"https://colab.research.google.com/github/oykuturhan/hu-bby162-2021/blob/main/Final.ipynb\" target=\"_parent\"><img src=\"https://colab.research.google.com/assets/colab-badge.svg\" alt=\"Open In Colab\"/></a>"
      ]
    },
    {
      "cell_type": "code",
      "metadata": {
        "id": "m5GHQRo1B3eX"
      },
      "source": [
        ""
      ],
      "execution_count": null,
      "outputs": []
    },
    {
      "cell_type": "code",
      "metadata": {
        "id": "QZIrzkZTkWwG"
      },
      "source": [
        "from google.colab import drive\n",
        "drive.mount('/content/drive')"
      ],
      "execution_count": null,
      "outputs": []
    },
    {
      "cell_type": "markdown",
      "metadata": {
        "id": "EGMRPVHmDGRy"
      },
      "source": [
        "Final Projesi "
      ]
    },
    {
      "cell_type": "code",
      "metadata": {
        "id": "TFtAHhYdDI1c"
      },
      "source": [
        "dosya = \"/content/drive/MyDrive/Final.txt\"\n",
        "\n",
        "f =  open(dosya ,'a')\n",
        "\n",
        "print(\"Yapmak İstediğiniz İşlemi Seçiniz\")\n",
        "print(\"1.Eser Ekleme\")\n",
        "print(\"2. Kayıt listeleme\")\n",
        "islem = int (input(\"Yapmak İstediğiniz İşlemin Numarasını Yazınız\"))\n",
        "if islem == 1:\n",
        " eserKaydet()\n",
        " islem = int (input(\"Yapmak İstediğiniz İşlemin Numarasını Yazınız\"))\n",
        "if islem == 2:\n",
        "  kayitList()\n",
        "  int (input(\"Yapmak İstediğiniz İşlemin Numarasını Yazınız\"))\n",
        "def eserKaydet():\n",
        "  eserAdi = input(\"Eser Adını Giriniz\")\n",
        "  yazarAdi = input(\"Yazar Adını Giriniz\")\n",
        "  yayınEvi = input(\"Yayınevi Adını Giriniz\")\n",
        "  basimTarihi = input(\"Basım Tarihini Giriniz\")\n",
        "  ISBN = input(\"ISBN Giriniz\") \n",
        "  f.write(eserAdi + yazarAdi + yayınEvi + basimTarihi + ISBN)\n",
        "  f.close()\n",
        "\n",
        "def kayitList():\n",
        " f = open(dosya, 'r')\n",
        " for line in f:\n",
        "  print(line)\n",
        " f.close()\n",
        "\n",
        "\n",
        "\n",
        "\n"
      ],
      "execution_count": null,
      "outputs": []
    }
  ]
}