{
  "nbformat": 4,
  "nbformat_minor": 0,
  "metadata": {
    "colab": {
      "name": "Final.ipynb ",
      "provenance": [],
      "mount_file_id": "1XfDiFrD5CzfmrwpJMp4tSoj5Av-TKPq6",
      "authorship_tag": "ABX9TyMFqHHOZklJJpF2JtxT0NPu",
      "include_colab_link": true
    },
    "kernelspec": {
      "display_name": "Python 3",
      "name": "python3"
    },
    "language_info": {
      "name": "python"
    }
  },
  "cells": [
    {
      "cell_type": "markdown",
      "metadata": {
        "id": "view-in-github",
        "colab_type": "text"
      },
      "source": [
        "<a href=\"https://colab.research.google.com/github/oykuturhan/hu-bby162-2021/blob/main/Final.ipynb\" target=\"_parent\"><img src=\"https://colab.research.google.com/assets/colab-badge.svg\" alt=\"Open In Colab\"/></a>"
      ]
    },
    {
      "cell_type": "code",
      "metadata": {
        "id": "aeF9NTPvN7yD"
      },
      "source": [
        "dosya = \"/content/drive/MyDrive/Final.txt\"\n",
        "f =open(dosya,'a')\n",
        "print(\"Yapmak İstediğiniz İşlemi Seçiniz\")\n",
        "print(\"1.Eser Ekleme\")\n",
        "print(\"2.Kayıt listeleme\")\n",
        "def eserKaydet():\n",
        "  eserAdi = input(\"Eser Adını Giriniz:\")\n",
        "  yazarAdi = input(\"Yazar Adını Giriniz:\")\n",
        "  yayınEvi = input(\"Yayınevi Adını Giriniz:\")\n",
        "  basimTarihi = input(\"Basım Tarihini Giriniz.\")\n",
        "  ISBN = input(\"ISBN Giriniz:\")\n",
        "  f = open(dosya, 'a' )\n",
        "  f.write(eserAdi + yazarAdi + yayınEvi + basimTarihi + ISBN + \"\\n\")\n",
        "  f.close()\n",
        "def kayitList():\n",
        " f = open(dosya, 'r')\n",
        " for line in f:\n",
        "  print(line)\n",
        " f.close()\n",
        "islemler=[1,2]\n",
        "while islemler:\n",
        " islem = int(input(\"Yapmak İstediğiniz İşlemin Numarasını Yazınız\"))\n",
        " if islem == 1:\n",
        "  eserKaydet()\n",
        " elif islem == 2:\n",
        "  kayitList()\n",
        " else:\n",
        "   print(\"Aradığınız işlem bulunamamıştır.\")\n",
        "   break\n"
      ],
      "execution_count": null,
      "outputs": []
    },
    {
      "cell_type": "code",
      "metadata": {
        "id": "WXN-ZA4mRDb_"
      },
      "source": [
        "from google.colab import drive\n",
        "drive.mount('/content/drive')"
      ],
      "execution_count": null,
      "outputs": []
    }
  ]
}