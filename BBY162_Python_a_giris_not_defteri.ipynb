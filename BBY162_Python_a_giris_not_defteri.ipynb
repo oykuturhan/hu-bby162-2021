{
  "nbformat": 4,
  "nbformat_minor": 0,
  "metadata": {
    "colab": {
      "name": "BBY162_Python_a giris not defteri",
      "provenance": [],
      "collapsed_sections": [],
      "toc_visible": true,
      "include_colab_link": true
    },
    "kernelspec": {
      "display_name": "Python 3",
      "name": "python3"
    }
  },
  "cells": [
    {
      "cell_type": "markdown",
      "metadata": {
        "id": "view-in-github",
        "colab_type": "text"
      },
      "source": [
        "<a href=\"https://colab.research.google.com/github/oykuturhan/hu-bby162-2021/blob/main/BBY162_Python_a_giris_not_defteri.ipynb\" target=\"_parent\"><img src=\"https://colab.research.google.com/assets/colab-badge.svg\" alt=\"Open In Colab\"/></a>"
      ]
    },
    {
      "cell_type": "markdown",
      "metadata": {
        "id": "NfVak32KVWSs"
      },
      "source": [
        "#Bölüm 00: Python'a Giriş"
      ]
    },
    {
      "cell_type": "markdown",
      "metadata": {
        "id": "AaAlYeo8bIIa"
      },
      "source": [
        "# Yeni Bölüm"
      ]
    },
    {
      "cell_type": "code",
      "metadata": {
        "id": "ruZTANZHlgxG"
      },
      "source": [
        ""
      ],
      "execution_count": null,
      "outputs": []
    },
    {
      "cell_type": "markdown",
      "metadata": {
        "id": "7yc8OZoflhIk"
      },
      "source": [
        ""
      ]
    },
    {
      "cell_type": "code",
      "metadata": {
        "id": "-ydSsZb6lhp6"
      },
      "source": [
        ""
      ],
      "execution_count": null,
      "outputs": []
    },
    {
      "cell_type": "markdown",
      "metadata": {
        "id": "Jx99cm91VfHw"
      },
      "source": [
        "## Yazar Hakkında\n",
        "\n",
        "R. Orçun Madran - [madran.net](http://madran.net)"
      ]
    },
    {
      "cell_type": "markdown",
      "metadata": {
        "id": "Pg3xaBR3XNNs"
      },
      "source": [
        "##Çalışma Defteri Hakkında\n",
        "\n",
        "Bu çalışma defteri Google'ın Jupyter Notebook platformuna benzer özellikler taşıyan Google Colab üzerinde oluşturulmuştur. Google Colab, herhangi bir altyapı düzenlemesine ihtiyaç duymadan Web tabanlı olarak Python kodları yazmanıza ve çalıştırmanıza imkan veren ücretsiz bir platformdur. Platform ile ilgili detaylı bilgiye [https://colab.research.google.com/notebooks/intro.ipynb](https://colab.research.google.com/notebooks/intro.ipynb) adresinden ulaşabilirsiniz.\n",
        "\n",
        "Python'a giriş seviyesinde 10 dersten oluşan bu çalışma defteri daha önce kodlama deneyimi olmayan öğrenenler için hazırlanmıştır. Etkileşimli yapısından dolayı hem konu anlatımlarının hem de çalıştırılabilir örneklerin bir arada olduğu bu yapı, sürekli olarak güncellenebilecek bir altyapıya sahiptir. Bu açıdan çalışma defterinin güncel sürümünü aşağıdaki adresten kontrol etmenizi tavsiye ederim.\n",
        "\n",
        "Sürüm 1.0: [Python'a Giriş](https://github.com/orcunmadran/hu-bby162-2020/blob/master/BBY162_Python_a_Giris.ipynb)\n",
        "\n",
        "İyi çalışmalar ve başarılar :)"
      ]
    },
    {
      "cell_type": "markdown",
      "metadata": {
        "id": "6IOyCRzqRgBu"
      },
      "source": [
        "## Kullanım Şartları\n",
        "\n",
        "Bu çalışma defteri aşağıda belirtilen şartlar altında, katkıda bulunanlara Atıf vermek ve aynı lisansla paylaşmak kaydıyla ticari amaç dahil olmak üzere her şekilde dağıtabilir, paylaşabilir, üzerinde değişiklik yapılarak yeniden kullanılabilir.\n",
        "\n",
        "\n",
        "---\n",
        "\n",
        "![Atıf-AynıLisanslaPaylaş 4.0 Uluslararası Lisansı](https://i.creativecommons.org/l/by-sa/4.0/88x31.png)\n",
        "\n",
        "Bu çalışma defteri Jetbrains'in \"Introduction to Python\" dersi temel alınarak hazırlanmış ve Creative Commons [Atıf-AynıLisanslaPaylaş 4.0 Uluslararası Lisansı](http://creativecommons.org/licenses/by-sa/4.0/) ile lisanslanmıştır.\n",
        "\n",
        "---\n",
        "\n"
      ]
    },
    {
      "cell_type": "markdown",
      "metadata": {
        "id": "AE4EYdj6VPvq"
      },
      "source": [
        "# Bölüm 01: Giriş\n",
        "\n",
        "Bu bölümde:\n",
        "\n",
        "*   İlk bilgisayar programımız,\n",
        "*   Yorumlar yer almaktadır."
      ]
    },
    {
      "cell_type": "markdown",
      "metadata": {
        "id": "4nLn-agoUdfh"
      },
      "source": [
        "## İlk Bilgisayar Programımız\n",
        "Geleneksel olarak herhangi bir programlama dilinde yazılan ilk program \"Merhaba Dünya!\"'dır."
      ]
    },
    {
      "cell_type": "markdown",
      "metadata": {
        "id": "xhY6ovVFSBp1"
      },
      "source": [
        "**Örnek Uygulama:**\n",
        "\n",
        "\n",
        "```\n",
        "print(\"Merhaba Dünya!\")\n",
        "```\n",
        "\n",
        "\n"
      ]
    },
    {
      "cell_type": "code",
      "metadata": {
        "id": "ji14524dirwG"
      },
      "source": [
        "# Örnek uygulamayı çalıştır\n",
        "\n",
        "print(\"Merhaba Dünya!\")"
      ],
      "execution_count": null,
      "outputs": []
    },
    {
      "cell_type": "markdown",
      "metadata": {
        "id": "MuYQpCfoh7In"
      },
      "source": [
        "**Görev:** Kendinizi dünyaya tanıtacak ilk bilgisayar programını yazın!"
      ]
    },
    {
      "cell_type": "code",
      "metadata": {
        "cellView": "both",
        "colab": {
          "base_uri": "https://localhost:8080/"
        },
        "id": "CBHkVbIlUXgW",
        "outputId": "23ffde9b-f5c6-434f-d8d1-1c9fd75bc693"
      },
      "source": [
        "print(\"Merhaba ben öykü\")"
      ],
      "execution_count": null,
      "outputs": [
        {
          "output_type": "stream",
          "text": [
            "Merhaba ben öykü\n"
          ],
          "name": "stdout"
        }
      ]
    },
    {
      "cell_type": "markdown",
      "metadata": {
        "id": "0S8fTkAqVb4v"
      },
      "source": [
        "## Yorumlar\n",
        "Python'daki yorumlar # \"hash\" karakteriyle başlar ve fiziksel çizginin sonuna kadar uzanır. Yorum yapmak için kullanılan # \"hash\" karakteri kod satırlarını geçici olarak devre dışı bırakmak amacıyla da kullanılabilir. "
      ]
    },
    {
      "cell_type": "markdown",
      "metadata": {
        "id": "ql-GYfPYWpUW"
      },
      "source": [
        "**Örnek Uygulama:**\n",
        "\n",
        "\n",
        "```\n",
        "# Bu ilk bilgisayar programım için ilk yorumum\n",
        "print(\"# bu bir yorum değildir\")\n",
        "print(\"Merhaba!\")  # yorumlar kod satırının devamında da yapılabilir.\n",
        "#print(\"Bu kod geçici olarak devre dışı bırakılmıştır.\")\n",
        "```\n",
        "\n"
      ]
    },
    {
      "cell_type": "code",
      "metadata": {
        "colab": {
          "base_uri": "https://localhost:8080/"
        },
        "id": "ZjHL-qoEd7Bj",
        "outputId": "8c8d5bc5-7669-491a-85b1-7dfcf7398916"
      },
      "source": [
        "# Örnek uygulamayı çalıştır\n",
        "\n",
        "# Bu ilk bilgisayar programım için ilk yorumum\n",
        "print(\"# bu bir yorum değildir\")\n",
        "print(\"Merhaba!\")  # yorumlar kod satırının devamında da yapılabilir.\n",
        "# print(\"Bu kod geçici olarak devre dışı bırakılmıştır.\")"
      ],
      "execution_count": null,
      "outputs": [
        {
          "output_type": "stream",
          "text": [
            "# bu bir yorum değildir\n",
            "Merhaba!\n"
          ],
          "name": "stdout"
        }
      ]
    },
    {
      "cell_type": "markdown",
      "metadata": {
        "id": "4ufK03hEiP76"
      },
      "source": [
        "**Görev:** Python kodunuza yeni bir yorum ekleyin, mevcut satıra yorum ekleyin, yazılmış olan bir kod satırını geçici olarak devre dışı bırakın!"
      ]
    },
    {
      "cell_type": "code",
      "metadata": {
        "colab": {
          "base_uri": "https://localhost:8080/"
        },
        "id": "QzUppEjoXLPM",
        "outputId": "5f931fdb-6fe9-465d-c299-71b1272fdf86"
      },
      "source": [
        "print(\" bu ilk yorumum inş olur\") # bu ilk yorumum inş olur\n",
        "#print(\"Bu satırı devre dışı bırakın!\")"
      ],
      "execution_count": null,
      "outputs": [
        {
          "output_type": "stream",
          "text": [
            " bu ilk yorumum inş olur\n"
          ],
          "name": "stdout"
        }
      ]
    },
    {
      "cell_type": "markdown",
      "metadata": {
        "id": "9JeaGlvQYylS"
      },
      "source": [
        "# Bölüm 02: Değişkenler\n",
        "Bu bölümde:\n",
        "\n",
        "\n",
        "*   Değişken nedir?,\n",
        "*   Değişken tanımlama,\n",
        "*   Değişken türleri,\n",
        "*   Değişken türü dönüştürme,\n",
        "*   Aritmetik operatörler,\n",
        "*   Artıtılmış atama operatörleri,\n",
        "*   Boolean operatörleri,\n",
        "*   Karşılaştırma operatörleri yer almaktadır.\n",
        "\n"
      ]
    },
    {
      "cell_type": "markdown",
      "metadata": {
        "id": "VzeGixS6Y919"
      },
      "source": [
        "## Değişken Nedir?\n",
        "Değişkenler değerleri depolamak için kullanılır. Böylece daha sonra bu değişkenler program içinden çağırılarak atanan değer tekrar ve tekrar kullanılabilir. Değişkenlere metinler ve / veya sayılar atanabilir. Sayı atamaları direkt rakamların yazılması ile gerçekleştirilirken, metin atamalarında metin tek tırnak içinde ( 'abc' ) ya da çift tırnak ( \"abc\" ) içinde atanır.\n",
        "\n",
        "Değişkenler etiketlere benzer ve atama operatörü olarak adlandırılan eşittir ( = ) operatörü ile bir değişkene bir değer atanabilir. Bir değer ataması zincirleme şeklinde gerçekleştirilebilir. Örneğin: a = b = 2"
      ]
    },
    {
      "cell_type": "markdown",
      "metadata": {
        "id": "7tWAdnNlZtQr"
      },
      "source": [
        "**Örnek Uygulama 1**\n",
        "\n",
        "Aşağıda bir \"zincir atama\" örneği yer almaktadır. Değer olarak atanan 2 hem  \"a\" değişkenine, hem de \"b\" değişkenine atanmaktadır.\n",
        "\n",
        "```\n",
        "a = b = 2\n",
        "print(\"a = \" + str(a))\n",
        "print(\"b = \" + str(b))\n",
        "```\n",
        "\n",
        "\"a\" ve \"b\" değişkenleri başka metinler ile birlikte ekrana yazdırılmak istendiğinde metin formatına çevrilmesi gerekmektedir. Bu bağlamda kullanılan \"str(a)\" ve  \"str(b)\" ifadeleri eğitimin ilerleyen bölümlerinde anlatılacaktır."
      ]
    },
    {
      "cell_type": "code",
      "metadata": {
        "id": "lmrymxeNjAR5"
      },
      "source": [
        "# Örnek uygulamayı çalıştır\n",
        "\n",
        "a = b = 2\n",
        "print(\"a = \" + str(a))\n",
        "print(\"b = \" + str(b))"
      ],
      "execution_count": null,
      "outputs": []
    },
    {
      "cell_type": "markdown",
      "metadata": {
        "id": "3eqETZKEi7ZG"
      },
      "source": [
        "**Örnek Uygulama 2**\n",
        "\n",
        "\n",
        "```\n",
        "adSoyad = \"Orçun Madran\"\n",
        "print(\"Adı Soyadı: \" + adSoyad)\n",
        "```"
      ]
    },
    {
      "cell_type": "code",
      "metadata": {
        "id": "4iU4Hw7wjNzk"
      },
      "source": [
        "# Örnek uygulamayı çalıştır\n",
        "\n",
        "adSoyad = \"Orçun Madran\"\n",
        "print(\"Adı Soyadı: \" + adSoyad)"
      ],
      "execution_count": null,
      "outputs": []
    },
    {
      "cell_type": "markdown",
      "metadata": {
        "id": "szRkWMg9idf9"
      },
      "source": [
        "**Görev:** \"eposta\" adlı bir değişken oluşturun. Oluşturduğunuz bu değişkene bir e-posta adresi atayın. Daha sonra atadığınız bu değeri ekrana yazdırın. Örneğin: \"E-posta: orcun[at]madran.net\""
      ]
    },
    {
      "cell_type": "code",
      "metadata": {
        "colab": {
          "base_uri": "https://localhost:8080/"
        },
        "id": "RmIa5BJsZ2EI",
        "outputId": "a0453817-cbc9-4467-ae29-ee2e51c92690"
      },
      "source": [
        "# Ekrana e-posta yazdır\n",
        "ePosta = \"orcun[at]madran.net\"\n",
        "print(\"ePosta:\" + ePosta)\n"
      ],
      "execution_count": null,
      "outputs": [
        {
          "output_type": "stream",
          "text": [
            "ePosta:orcun[at]madran.net\n"
          ],
          "name": "stdout"
        }
      ]
    },
    {
      "cell_type": "markdown",
      "metadata": {
        "id": "2irKEi_raxaB"
      },
      "source": [
        "## Değişken Tanımlama\n",
        "Değişken isimlerinde uyulması gereken bir takım kurallar vardır:\n",
        "\n",
        "\n",
        "*   Rakam ile başlayamaz.\n",
        "*   Boşluk kullanılamaz.\n",
        "*   Alt tire ( _ ) haricinde bir noktalama işareti kullanılamaz.\n",
        "*   Python içinde yerleşik olarak tanımlanmış anahtar kelimeler kullanılamaz (ör: print).\n",
        "*   Python 3. sürümden itibaren latin dışı karakter desteği olan \"Unicode\" desteği gelmiştir. Türkçe karakterler değişken isimlerinde kullanılabilir. \n",
        "\n",
        "**Dikkat:** Değişken isimleri büyük-küçük harfe duyarlıdır. Büyük harfle başlanan isimlendirmeler genelde *sınıflar* için kullanılır. Değişken isimlerinin daha anlaşılır olması için deve notasyonu (camelCase) ya da alt tire kullanımı tavsiye edilir.\n"
      ]
    },
    {
      "cell_type": "markdown",
      "metadata": {
        "id": "pOxCruNHdp9M"
      },
      "source": [
        "**Örnek Uygulama:**\n",
        "\n",
        "```\n",
        "degisken = 1\n",
        "kullaniciAdi = \"orcunmadran\"\n",
        "kul_ad = \"rafet\"\n",
        "```\n",
        "\n"
      ]
    },
    {
      "cell_type": "markdown",
      "metadata": {
        "id": "SVwQ0Tf-isfz"
      },
      "source": [
        "Henüz tanımlanmamış bir değişken kullanıldığında derleyicinin döndürdüğü hatayı kodu çalıştırarak gözlemleyin!"
      ]
    },
    {
      "cell_type": "code",
      "metadata": {
        "colab": {
          "base_uri": "https://localhost:8080/",
          "height": 180
        },
        "id": "1W14OfkxeGuN",
        "outputId": "f1b0ecd2-65d9-4bca-f6ee-f9c311d6aff1"
      },
      "source": [
        "degisken1 = \"Veri\"\n",
        "print(degisken2)"
      ],
      "execution_count": null,
      "outputs": [
        {
          "output_type": "error",
          "ename": "NameError",
          "evalue": "ignored",
          "traceback": [
            "\u001b[0;31m---------------------------------------------------------------------------\u001b[0m",
            "\u001b[0;31mNameError\u001b[0m                                 Traceback (most recent call last)",
            "\u001b[0;32m<ipython-input-9-031e866b659a>\u001b[0m in \u001b[0;36m<module>\u001b[0;34m()\u001b[0m\n\u001b[1;32m      1\u001b[0m \u001b[0mdegisken1\u001b[0m \u001b[0;34m=\u001b[0m \u001b[0;34m\"Veri\"\u001b[0m\u001b[0;34m\u001b[0m\u001b[0;34m\u001b[0m\u001b[0m\n\u001b[0;32m----> 2\u001b[0;31m \u001b[0mprint\u001b[0m\u001b[0;34m(\u001b[0m\u001b[0mdegisken2\u001b[0m\u001b[0;34m)\u001b[0m\u001b[0;34m\u001b[0m\u001b[0;34m\u001b[0m\u001b[0m\n\u001b[0m",
            "\u001b[0;31mNameError\u001b[0m: name 'degisken2' is not defined"
          ]
        }
      ]
    },
    {
      "cell_type": "markdown",
      "metadata": {
        "id": "GwLgmn1fi04Q"
      },
      "source": [
        "**Görev:** Tanımladığınız değişkeni ekrana yazdırın!"
      ]
    },
    {
      "cell_type": "code",
      "metadata": {
        "colab": {
          "base_uri": "https://localhost:8080/"
        },
        "id": "JrNUlQAyeqHQ",
        "outputId": "ae78ec14-ee30-4e63-bb4e-5a659ae1f37d"
      },
      "source": [
        "degisken3 = \"Yeni veri\"\n",
        "print(degisken3)"
      ],
      "execution_count": null,
      "outputs": [
        {
          "output_type": "stream",
          "text": [
            "Yeni veri\n"
          ],
          "name": "stdout"
        }
      ]
    },
    {
      "cell_type": "markdown",
      "metadata": {
        "id": "_6eRj3kmeyGw"
      },
      "source": [
        "## Değişken Türleri\n",
        "Python'da iki ana sayı türü vardır; tam sayılar ve ondalık sayılar.\n",
        "\n",
        "**Dikkat:** Ondalık sayıların yazımında Türkçe'de *virgül* (,) kullanılmasına rağmen, programlama dillerinin evrensel yazım kuralları içerisinde ondalık sayılar *nokta* (.) ile ifade edilir."
      ]
    },
    {
      "cell_type": "markdown",
      "metadata": {
        "id": "37MxozrGf1-F"
      },
      "source": [
        "**Örnek Uygulama:**\n",
        "\n",
        "```\n",
        "tamSayi = 5\n",
        "print(type(tamSayi))   # tamSayi değişkeninin türünü yazdırır\n",
        "\n",
        "ondalikSayi = 7.4\n",
        "print(type(ondalikSayi) # ondalikSayi değişkeninin türünü yazdırır\n",
        "```"
      ]
    },
    {
      "cell_type": "code",
      "metadata": {
        "colab": {
          "base_uri": "https://localhost:8080/"
        },
        "id": "Vzg4x_inkN9h",
        "outputId": "3775f3da-919a-482b-c87c-b304cb363f82"
      },
      "source": [
        "# Örnek uygulamayı çalıştır\n",
        "\n",
        "tamSayi = 5\n",
        "print(type(tamSayi))\n",
        "\n",
        "ondalikSayi = 7.4\n",
        "print(type(ondalikSayi))"
      ],
      "execution_count": null,
      "outputs": [
        {
          "output_type": "stream",
          "text": [
            "<class 'int'>\n",
            "<class 'float'>\n"
          ],
          "name": "stdout"
        }
      ]
    },
    {
      "cell_type": "markdown",
      "metadata": {
        "id": "asiOZVmbn_TO"
      },
      "source": [
        "**Görev:** \"sayi\" değişkeninin türünü belirleyerek ekrana yazdırın!"
      ]
    },
    {
      "cell_type": "code",
      "metadata": {
        "cellView": "both",
        "colab": {
          "base_uri": "https://localhost:8080/"
        },
        "id": "UrGfF38CgjdQ",
        "outputId": "4fc12d53-b832-4a66-ad5c-b5b1a597599f"
      },
      "source": [
        "sayi = 9.0\n",
        "ondalikSayi = 9.0\n",
        "print(type(ondalikSayi))\n"
      ],
      "execution_count": null,
      "outputs": [
        {
          "output_type": "stream",
          "text": [
            "<class 'float'>\n"
          ],
          "name": "stdout"
        }
      ]
    },
    {
      "cell_type": "markdown",
      "metadata": {
        "id": "i3Qht_zmjLf2"
      },
      "source": [
        "## Değişken Türü Dönüştürme\n",
        "Bir veri türünü diğerine dönüştürmenize izin veren birkaç yerleşik fonksiyon (built-in function) vardır. Bu fonksiyonlar (\"int()\", \"str()\", \"float()\") uygulandıkları değişkeni dönüştürerek yeni bir nesne döndürürler. "
      ]
    },
    {
      "cell_type": "markdown",
      "metadata": {
        "id": "F-Zp8zfmkzJX"
      },
      "source": [
        "**Örnek Uygulama**\n",
        "\n",
        "\n",
        "```\n",
        "sayi = 6.5\n",
        "print(type(sayi)) # \"sayi\" değişkeninin türünü ondalık olarak yazdırır\n",
        "print(sayi)\n",
        "\n",
        "sayi = int(sayi)  # Ondalık sayı olan \"sayi\" değişkenini tam sayıya dönüştürür\n",
        "print(type(sayi))\n",
        "print(sayi)\n",
        "\n",
        "sayi = float(sayi) # Tam sayı olan \"sayi\" değişkenini ondalık sayıya dönüştürür\n",
        "print(type(sayi))\n",
        "print(sayi)\n",
        "\n",
        "sayi = str(sayi) # \"sayi\" değişkeni artık düz metin halini almıştır\n",
        "print(type(sayi))\n",
        "print(sayi)\n",
        "```"
      ]
    },
    {
      "cell_type": "code",
      "metadata": {
        "colab": {
          "base_uri": "https://localhost:8080/"
        },
        "id": "G0bwb2rBkgVN",
        "outputId": "0a6c5a43-77a6-41d6-8126-64c4da1948b8"
      },
      "source": [
        "# Örnek uygulamayı çalıştır\n",
        "\n",
        "sayi = 6.5\n",
        "print(type(sayi))\n",
        "print(sayi)\n",
        " \n",
        "sayi = int(sayi)\n",
        "print(type(sayi))\n",
        "print(sayi)\n",
        " \n",
        "sayi = float(sayi)\n",
        "print(type(sayi))\n",
        "print(sayi)\n",
        " \n",
        "sayi = str(sayi)\n",
        "print(type(sayi))\n",
        "print(sayi)"
      ],
      "execution_count": null,
      "outputs": [
        {
          "output_type": "stream",
          "text": [
            "<class 'float'>\n",
            "6.5\n",
            "<class 'int'>\n",
            "6\n",
            "<class 'float'>\n",
            "6.0\n",
            "<class 'str'>\n",
            "6.0\n"
          ],
          "name": "stdout"
        }
      ]
    },
    {
      "cell_type": "markdown",
      "metadata": {
        "id": "7j51gKaIlM-u"
      },
      "source": [
        "**Görev:** Ondalık sayıyı tam sayıya dönüştürün ve ekrana değişken türünü ve değeri yazdırın!"
      ]
    },
    {
      "cell_type": "code",
      "metadata": {
        "colab": {
          "base_uri": "https://localhost:8080/"
        },
        "id": "o9ZQ6Jr3lL6A",
        "outputId": "154bc097-700e-4896-ee36-fcf7985f2d36"
      },
      "source": [
        "sayi = 3.14\n",
        "sayi = int(sayi)\n",
        "print(sayi)\n",
        "print(type(ondalikSayi))\n"
      ],
      "execution_count": null,
      "outputs": [
        {
          "output_type": "stream",
          "text": [
            "3\n",
            "<class 'float'>\n"
          ],
          "name": "stdout"
        }
      ]
    },
    {
      "cell_type": "markdown",
      "metadata": {
        "id": "f5MK6vZOl6dG"
      },
      "source": [
        "## Aritmetik Operatörler\n",
        "Diğer tüm programlama dillerinde olduğu gibi, toplama (+), çıkarma (-), çarpma (yıldız) ve bölme (/) operatörleri sayılarla kullanılabilir. Bunlarla birlikte Python'un üs (çift yıldız) ve mod (%) operatörleri vardır.\n",
        "\n",
        "**Dikkat:** Matematik işlemlerinde geçerli olan aritmetik operatörlerin öncelik sıralamaları (çarpma, bölme, toplama, çıkarma) ve parantezlerin önceliği kuralları Python içindeki matematiksel işlemler için de geçerlidir. \n"
      ]
    },
    {
      "cell_type": "markdown",
      "metadata": {
        "id": "1THb0XpGmwSD"
      },
      "source": [
        "**Örnek Uygulama:**\n",
        "\n",
        "```\n",
        "# Toplama işlemi\n",
        "sayi = 7.0\n",
        "sonuc = sayi + 3.5\n",
        "print(sonuc)\n",
        "\n",
        "# Çıkarma işlemi\n",
        "sayi = 200\n",
        "sonuc = sayi - 35\n",
        "print(sonuc)\n",
        "\n",
        "# Çarpma işlemi\n",
        "sayi = 44\n",
        "sonuc = sayi * 10\n",
        "print(sonuc)\n",
        "\n",
        "# Bölme işlemi\n",
        "sayi = 30\n",
        "sonuc = sayi / 3\n",
        "print(sonuc)\n",
        "\n",
        "# Üs alma işlemi\n",
        "sayi = 30\n",
        "sonuc = sayi ** 3\n",
        "print(sonuc)\n",
        "\n",
        "# Mod alma işlemi \n",
        "sayi = 35\n",
        "sonuc = sayi % 4\n",
        "print(sonuc)\n",
        "```"
      ]
    },
    {
      "cell_type": "code",
      "metadata": {
        "colab": {
          "base_uri": "https://localhost:8080/"
        },
        "id": "zdOXer1klJVQ",
        "outputId": "52e0cc37-c4ec-425f-8c22-462d0b75f74b"
      },
      "source": [
        "# Örnek uygulamayı çalıştır\n",
        "\n",
        "# Toplama işlemi\n",
        "sayi = 7.0\n",
        "sonuc = sayi + 3.5\n",
        "print(sonuc)\n",
        " \n",
        "# Çıkarma işlemi\n",
        "sayi = 200\n",
        "sonuc = sayi - 35\n",
        "print(sonuc)\n",
        " \n",
        "# Çarpma işlemi\n",
        "sayi = 44\n",
        "sonuc = sayi * 10\n",
        "print(sonuc)\n",
        " \n",
        "# Bölme işlemi\n",
        "sayi = 30\n",
        "sonuc = sayi / 3\n",
        "print(sonuc)\n",
        " \n",
        "# Üs alma işlemi\n",
        "sayi = 30\n",
        "sonuc = sayi ** 3\n",
        "print(sonuc)\n",
        " \n",
        "# Mod alma işlemi \n",
        "sayi = 35\n",
        "sonuc = sayi % 4\n",
        "print(sonuc)"
      ],
      "execution_count": null,
      "outputs": [
        {
          "output_type": "stream",
          "text": [
            "10.5\n",
            "165\n",
            "440\n",
            "10.0\n",
            "27000\n",
            "3\n"
          ],
          "name": "stdout"
        }
      ]
    },
    {
      "cell_type": "markdown",
      "metadata": {
        "id": "jp3PvDghnJkY"
      },
      "source": [
        "**Görev:** Aşağıda değer atamaları tamamlanmış olan değişkenleri kullanarak ürünlerin peşin satın alınma bedelini TL olarak hesaplayınız ve ürün adı ile birlikte ekrana yazdırınız! İpucu: Ürün adını ve ürün bedelini tek bir satırda yazdırmak isterseniz ürün bedelini str() fonksiyonu ile düz metin değişken türüne çevirmeniz gerekir. "
      ]
    },
    {
      "cell_type": "code",
      "metadata": {
        "colab": {
          "base_uri": "https://localhost:8080/"
        },
        "id": "oMY_MZjmndQj",
        "outputId": "66a31eca-ed61-4603-8a90-36847409e1ac"
      },
      "source": [
        "urunAdi = \"Bisiklet\"\n",
        "urunBedeliAvro = 850\n",
        "pariteAvroTL = 7\n",
        "urunAdet = 3\n",
        "pesinAdetIndirimTL = 500\n",
        "sayi = 850\n",
        "sonuc = sayi*7\n",
        "print(sonuc)\n",
        "sayi = 5950\n",
        "sonuc = sayi * 3\n",
        "print(sonuc)\n",
        "sayi = 17850\n",
        "sonuc = sayi - 500\n",
        "print(sonuc)\n",
        "print(\"Bisiklet:\" + str(1753 ))"
      ],
      "execution_count": 17,
      "outputs": [
        {
          "output_type": "stream",
          "text": [
            "5950\n",
            "17850\n",
            "17350\n",
            "Bisiklet:1753\n"
          ],
          "name": "stdout"
        }
      ]
    },
    {
      "cell_type": "markdown",
      "metadata": {
        "id": "OUWeht_8nyCx"
      },
      "source": [
        "## Artırılmış Atama Operatörleri\n",
        "Artırılmış atama, bir değişkenin mevcut değerine belirlenen değerin eklenerek ( += ) ya da çıkartılarak ( -= ) atanması işlemidir. \n"
      ]
    },
    {
      "cell_type": "markdown",
      "metadata": {
        "id": "r-6ImrKCobv_"
      },
      "source": [
        "**Örnek Uygulama**\n",
        "\n",
        "```\n",
        "sayi = 8\n",
        "sayi += 4  # Mevcut değer olan 8'e 4 daha ekler.\n",
        "print(sayi) \n",
        "\n",
        "sayi -= 6 # Mevcut değer olan 12'den 6 eksiltir.\n",
        "print(\"Sayı = \" + str(sayi))\n",
        "```\n",
        "\n"
      ]
    },
    {
      "cell_type": "code",
      "metadata": {
        "colab": {
          "base_uri": "https://localhost:8080/"
        },
        "id": "p281janglpzz",
        "outputId": "389b2aa7-1871-48c8-969e-7e731afc5897"
      },
      "source": [
        "# Örnek uygulama çalıştır\n",
        "\n",
        "sayi = 8\n",
        "sayi += 4\n",
        "print(sayi) \n",
        " \n",
        "sayi -= 6 \n",
        "print(\"Sayı = \" + str(sayi))"
      ],
      "execution_count": null,
      "outputs": [
        {
          "output_type": "stream",
          "text": [
            "12\n",
            "Sayı = 6\n"
          ],
          "name": "stdout"
        }
      ]
    },
    {
      "cell_type": "markdown",
      "metadata": {
        "id": "Du5w88EaovzQ"
      },
      "source": [
        "**Görev:** Artıtılmış atama operatörleri kullanarak \"sayi\" değişkenine 20 ekleyip, 10 çıkartarak değişkenin güncel değerini ekrana yazdırın! "
      ]
    },
    {
      "cell_type": "code",
      "metadata": {
        "colab": {
          "base_uri": "https://localhost:8080/"
        },
        "id": "ro0-FwgDpCkx",
        "outputId": "ef996e44-1dba-4f58-c62e-96f313bb8851"
      },
      "source": [
        "sayi = 55\n",
        "sayi += 20\n",
        "print(sayi)\n",
        "sayi -= 10\n",
        "print(sayi)"
      ],
      "execution_count": null,
      "outputs": [
        {
          "output_type": "stream",
          "text": [
            "75\n",
            "65\n"
          ],
          "name": "stdout"
        }
      ]
    },
    {
      "cell_type": "markdown",
      "metadata": {
        "id": "C0G673j0pQD4"
      },
      "source": [
        "## Boolean Operatörleri\n",
        "Boolean, yalnızca **Doğru (True)** veya **Yanlış (False)** olabilen bir değer türüdür. Eşitlik (==) operatörleri karşılaştırılan iki değişkenin eşit olup olmadığını kontrol eder ve *True* ya da *False* değeri döndürür."
      ]
    },
    {
      "cell_type": "markdown",
      "metadata": {
        "id": "Trd3P6X4pwbu"
      },
      "source": [
        "**Örnek Uygulama:**\n",
        "\n",
        "```\n",
        "deger1 = 10\n",
        "deger2 = 10\n",
        "esitMi = (deger1 == deger2) # Eşit olup olmadıkları kontrol ediliyor\n",
        "print(esitMi) # Değişken \"True\" olarak dönüyor\n",
        "\n",
        "deger1 = \"Python\"\n",
        "deger2 = \"Piton\"\n",
        "esitMi = (deger1 == deger2) # Eşit olup olmadıkları kontrol ediliyor\n",
        "print(esitMi) # Değişken \"False\" olarak dönüyor\n",
        "```"
      ]
    },
    {
      "cell_type": "code",
      "metadata": {
        "colab": {
          "base_uri": "https://localhost:8080/"
        },
        "id": "COYD_DtlmXgr",
        "outputId": "68661de0-0bce-471e-cb98-1f09d75d6e3c"
      },
      "source": [
        "# Örnek uygulama çalıştır\n",
        "\n",
        "deger1 = 10\n",
        "deger2 = 10\n",
        "esitMi = (deger1 == deger2) \n",
        "print(esitMi) \n",
        " \n",
        "deger1 = \"Python\"\n",
        "deger2 = \"Piton\"\n",
        "esitMi = (deger1 == deger2)\n",
        "print(esitMi)"
      ],
      "execution_count": null,
      "outputs": [
        {
          "output_type": "stream",
          "text": [
            "True\n",
            "False\n"
          ],
          "name": "stdout"
        }
      ]
    },
    {
      "cell_type": "markdown",
      "metadata": {
        "id": "QSvUSLN4p7Ra"
      },
      "source": [
        "**Görev:** Atamaları yapılmış olan değişkenler arasındaki eşitliği kontrol edin ve sonucu ekrana yazıdırın!"
      ]
    },
    {
      "cell_type": "code",
      "metadata": {
        "colab": {
          "base_uri": "https://localhost:8080/"
        },
        "id": "ihVP2eQpttpv",
        "outputId": "f46c4586-9202-4e0b-cfc3-24d7f6c89196"
      },
      "source": [
        "sifre = \"Python2020\"\n",
        "sifreTekrar = \"Piton2020\"\n",
        "esitMi= (sifre == sifreTekrar)\n",
        "print(esitMi)"
      ],
      "execution_count": null,
      "outputs": [
        {
          "output_type": "stream",
          "text": [
            "False\n"
          ],
          "name": "stdout"
        }
      ]
    },
    {
      "cell_type": "markdown",
      "metadata": {
        "id": "NU2bhXlwuUtj"
      },
      "source": [
        "## Karşılaştırma Operatörleri\n",
        "Python'da, >=, <= , >, < vb. dahil olmak üzere birçok operatör bulunmaktadır. Python'daki tüm karşılaştırma operatörleri aynı önceliğe sahiptir. Karşılaştırma sonucunda boole değerleri (*True* ya da *False*) döner. Karşılaştırma operatörleri isteğe bağlı olarak arka arkaya da (zincirlenerek) kullanılabilir."
      ]
    },
    {
      "cell_type": "markdown",
      "metadata": {
        "id": "kUkH4Qe6vBIm"
      },
      "source": [
        "**Örnek Uygulama:**\n",
        "\n",
        "```\n",
        "deger1 = 5\n",
        "deger2 = 7\n",
        "deger3 = 9\n",
        "\n",
        "print(deger1 < deger2 < deger3)  # Sonuç \"True\" olarak dönecektir\n",
        "```\n",
        "\n"
      ]
    },
    {
      "cell_type": "code",
      "metadata": {
        "colab": {
          "base_uri": "https://localhost:8080/"
        },
        "id": "NXpmIY32mwsY",
        "outputId": "a8c923ee-5514-46f3-aaee-1665943cf873"
      },
      "source": [
        "# Örnek uygulama çalıştır\n",
        "\n",
        "deger1 = 5\n",
        "deger2 = 7\n",
        "deger3 = 9\n",
        " \n",
        "print(deger1 < deger2 < deger3)"
      ],
      "execution_count": null,
      "outputs": [
        {
          "output_type": "stream",
          "text": [
            "True\n"
          ],
          "name": "stdout"
        }
      ]
    },
    {
      "cell_type": "markdown",
      "metadata": {
        "id": "JrbnTUNavEsJ"
      },
      "source": [
        "**Görev:** Aşağıda değer atamaları tamamlanmış olan değişkenleri kullanarak ürünlerin peşin satın alınma bedelini TL olarak hesaplayın. Toplam satın alma bedeli ile bütçenizi karşılaştırın. Satın alma bedelini ve bütçenizi ekrana yazdırın. Ödeme bütçenizi aşıyorsa ekrana \"False\", aşmıyorsa \"True\" yazdırın.  "
      ]
    },
    {
      "cell_type": "code",
      "metadata": {
        "colab": {
          "base_uri": "https://localhost:8080/"
        },
        "id": "chsHnUn9vWDA",
        "outputId": "3db17899-cafe-4c7a-8a90-25bffbcb9019"
      },
      "source": [
        "urunAdi = \"Bisiklet\"\n",
        "urunBedeliAvro = 850\n",
        "kurAvro = 7\n",
        "urunAdet = 3\n",
        "pesinAdetIndirimTL = 500\n",
        "butce = 15000\n",
        "sayi = 850\n",
        "sonuc = sayi * 7 * 3 - 500\n",
        "print(sonuc)\n",
        "print(17350 > 15000)\n",
        "print(17350 < 15000)"
      ],
      "execution_count": null,
      "outputs": [
        {
          "output_type": "stream",
          "text": [
            "17350\n",
            "True\n",
            "False\n"
          ],
          "name": "stdout"
        }
      ]
    },
    {
      "cell_type": "markdown",
      "metadata": {
        "id": "qhLUJ8wJM79g"
      },
      "source": [
        "# Bölüm 03: Metin Katarları\n",
        "\n",
        "Bu bölümde:\n",
        "\n",
        "*   Birbirine bağlama,\n",
        "*   Metin katarı çarpımı,\n",
        "*   Metin katarı dizinleme,\n",
        "*   Metin katarı negatif dizinleme,\n",
        "*   Metin katarı dilimleme,\n",
        "*   In operatörü,\n",
        "*   Metin katarının uzunluğu,\n",
        "*   Özel karakterlerden kaçma,\n",
        "*   Basit metin katarı metodları,\n",
        "*   Metin katarı biçimlendirme yer almaktadır."
      ]
    },
    {
      "cell_type": "markdown",
      "metadata": {
        "id": "9UNmx1IUNSrB"
      },
      "source": [
        "## Birbirine Bağlama\n",
        "Birbirine bağlama artı (+) işlemini kullanarak iki metin katarının birleştirilmesi işlemine denir."
      ]
    },
    {
      "cell_type": "markdown",
      "metadata": {
        "id": "1CkYIUTqNhSR"
      },
      "source": [
        "**Örnek Uygulama**\n",
        "\n",
        "```\n",
        "deger1 = \"Merhaba\"\n",
        "deger2 = \"Dünya\"\n",
        "\n",
        "selamlama = deger1 + \" \" + deger2\n",
        "print(selamlama)      # Çıktı: Merhaba Dünya\n",
        "```\n",
        "\n"
      ]
    },
    {
      "cell_type": "code",
      "metadata": {
        "colab": {
          "base_uri": "https://localhost:8080/"
        },
        "id": "-kLiOIo7Ku-F",
        "outputId": "b7fcfb9f-af8e-4ea9-819f-324bc9ada5f8"
      },
      "source": [
        "# Örnek uygulamayı çalışıtır\n",
        "\n",
        "deger1 = \"Merhaba\"\n",
        "deger2 = \"Dünya\"\n",
        "\n",
        "selamlama = deger1 + \" \" + deger2\n",
        "print(selamlama)"
      ],
      "execution_count": null,
      "outputs": [
        {
          "output_type": "stream",
          "text": [
            "Merhaba Dünya\n"
          ],
          "name": "stdout"
        }
      ]
    },
    {
      "cell_type": "markdown",
      "metadata": {
        "id": "n9rA4HAHNqI7"
      },
      "source": [
        "**Görev:** *ad*, *soyad* ve *hitap* değişkenlerini tek bir çıktıda birleştirecek kodu yazın! "
      ]
    },
    {
      "cell_type": "code",
      "metadata": {
        "colab": {
          "base_uri": "https://localhost:8080/"
        },
        "id": "xyNs9VEFOHJc",
        "outputId": "b51dc1d0-3bf7-4e98-f846-a2493f311c62"
      },
      "source": [
        "hitap = \"Öğr. Gör.\"\n",
        "ad = \"Orçun\"\n",
        "soyad = \"Madran\"\n",
        "adSoyad =hitap + \" \" + ad + \" \" + soyad\n",
        "print(adSoyad)\n",
        "# Çıktı: Öğr. Gör. Orçun Madran"
      ],
      "execution_count": null,
      "outputs": [
        {
          "output_type": "stream",
          "text": [
            "Öğr. Gör. Orçun Madran\n"
          ],
          "name": "stdout"
        }
      ]
    },
    {
      "cell_type": "markdown",
      "metadata": {
        "id": "ipcnECBCOKWX"
      },
      "source": [
        "## Metin Katarı Çarpımı\n",
        "Python, metin katarlarının çarpım sayısı kadar tekrar ettirilmesini desteklemektedir."
      ]
    },
    {
      "cell_type": "markdown",
      "metadata": {
        "id": "HXxuq9kMO2xm"
      },
      "source": [
        "**Örnek Uygulama**\n",
        "\n",
        "```\n",
        "metin = \"Hadi! \"\n",
        "metniCarp = metin * 4\n",
        "print(metniCarp) # Çıktı: Hadi! Hadi! Hadi! Hadi! \n",
        "```\n",
        "\n"
      ]
    },
    {
      "cell_type": "code",
      "metadata": {
        "colab": {
          "base_uri": "https://localhost:8080/"
        },
        "id": "12AYvND7LYwN",
        "outputId": "a8decba1-1f3f-4bb9-9587-1c5f47fa1eec"
      },
      "source": [
        "# Örnek uygulamayı çalıştır\n",
        "\n",
        "metin = \"Hadi! \"\n",
        "metniCarp = metin * 4\n",
        "print(metniCarp)"
      ],
      "execution_count": null,
      "outputs": [
        {
          "output_type": "stream",
          "text": [
            "Hadi! Hadi! Hadi! Hadi! \n"
          ],
          "name": "stdout"
        }
      ]
    },
    {
      "cell_type": "markdown",
      "metadata": {
        "id": "56NercDUOh8x"
      },
      "source": [
        "**Görev:** Sizi sürekli bekleten arkadaşınızı uyarabilmek için istediğiniz sayıda \"Hadi!\" kelimesini ekrana yazdırın!"
      ]
    },
    {
      "cell_type": "code",
      "metadata": {
        "colab": {
          "base_uri": "https://localhost:8080/"
        },
        "id": "j_CdqS1bPHAb",
        "outputId": "732cdf43-3d28-4742-95dc-bc5b13772639"
      },
      "source": [
        "metin = \"Hadi!\"\n",
        "metniCarp = metin * 6\n",
        "print(metniCarp)\n",
        "\n",
        "# Çıktı: Hadi! Hadi! Hadi! Hadi! ... Hadi!"
      ],
      "execution_count": null,
      "outputs": [
        {
          "output_type": "stream",
          "text": [
            "Hadi!Hadi!Hadi!Hadi!Hadi!Hadi!\n"
          ],
          "name": "stdout"
        }
      ]
    },
    {
      "cell_type": "markdown",
      "metadata": {
        "id": "Xo6sOrv-PpgY"
      },
      "source": [
        "##Metin Katarı Dizinleme\n",
        "Konumu biliniyorsa, bir metin katarındaki ilgili karaktere erişilebilir. Örneğin; str[index] metin katarındaki indeks numarasının karşılık geldiği karakteri geri döndürecektir. İndekslerin her zaman 0'dan başladığı unutulmamalıdır. İndeksler, sağdan saymaya başlamak için negatif sayılar da olabilir. -0, 0 ile aynı olduğundan, negatif indeksler -1 ile başlar."
      ]
    },
    {
      "cell_type": "markdown",
      "metadata": {
        "id": "VV71MAQFQaPs"
      },
      "source": [
        "**Örnek Uygulama**\n",
        "\n",
        "```\n",
        "metin = \"Python Programlama Dili\"\n",
        "print(\"'h' harfini yakala: \" + metin[3]) # Çıktı: 'h' harfini yakala: h\"\n",
        "```\n"
      ]
    },
    {
      "cell_type": "code",
      "metadata": {
        "colab": {
          "base_uri": "https://localhost:8080/"
        },
        "id": "S7c1TXGlL3XI",
        "outputId": "7ea1c7d7-99e5-42a5-a317-f2fd6f35b3b1"
      },
      "source": [
        "# örnek uygulama çalıştır\n",
        "\n",
        "metin = \"Python Programlama Dili\"\n",
        "print(\"'h' harfini yakala: \" + metin[3])"
      ],
      "execution_count": null,
      "outputs": [
        {
          "output_type": "stream",
          "text": [
            "'h' harfini yakala: h\n"
          ],
          "name": "stdout"
        }
      ]
    },
    {
      "cell_type": "markdown",
      "metadata": {
        "id": "55Lviae-QTax"
      },
      "source": [
        "**Görev:** İndeks numarasını kullanarak metin katarındaki ikinci \"P\" harfini ekrana yazdırın!\n"
      ]
    },
    {
      "cell_type": "code",
      "metadata": {
        "colab": {
          "base_uri": "https://localhost:8080/"
        },
        "id": "dHJ48v5WQe4c",
        "outputId": "42ad6736-4e8b-4d73-f41b-57b5f12c8cbb"
      },
      "source": [
        "metin = \"Python Programlama Dili\"\n",
        "print(\"p' harfini yakala: \" + metin[0])\n",
        "# Çıktı: P"
      ],
      "execution_count": null,
      "outputs": [
        {
          "output_type": "stream",
          "text": [
            "p' harfini yakala: P\n"
          ],
          "name": "stdout"
        }
      ]
    },
    {
      "cell_type": "markdown",
      "metadata": {
        "id": "op2D6v9xQsRe"
      },
      "source": [
        "## Metin Katarı Negatif Dizinleme\n",
        "Metin katarının sonlarında yer alan bir karaktere daha rahat erişebilmek için indeks numarası negatif bir değer olarak belirlenebilir."
      ]
    },
    {
      "cell_type": "markdown",
      "metadata": {
        "id": "kZTrtqD6RM7j"
      },
      "source": [
        "**Örnek Uygulama**\n",
        "\n",
        "```\n",
        "metin = \"Python Programlama Dili\"\n",
        "dHarfi = metin[-4]\n",
        "print(dHarfi) # Çıktı: D\n",
        "```\n",
        "\n"
      ]
    },
    {
      "cell_type": "code",
      "metadata": {
        "colab": {
          "base_uri": "https://localhost:8080/"
        },
        "id": "_iG5JXqmM96K",
        "outputId": "87aa5573-0305-4d03-a58c-a909f0707bc6"
      },
      "source": [
        "# Örnek uygulama çalıştır\n",
        "\n",
        "metin = \"Python Programlama Dili\"\n",
        "dHarfi = metin[-4]\n",
        "print(dHarfi)"
      ],
      "execution_count": null,
      "outputs": [
        {
          "output_type": "stream",
          "text": [
            "D\n"
          ],
          "name": "stdout"
        }
      ]
    },
    {
      "cell_type": "markdown",
      "metadata": {
        "id": "ZM6vbbChQ_4R"
      },
      "source": [
        "**Görev:** Metin katarının sonunda yer alan \"i\" harfini ekrana yazdırın!"
      ]
    },
    {
      "cell_type": "code",
      "metadata": {
        "colab": {
          "base_uri": "https://localhost:8080/"
        },
        "id": "d49Cfw-FRJMT",
        "outputId": "3753b310-1db4-40e8-8377-f4648f888c4e"
      },
      "source": [
        "metin = \"Python Programlama Dili\"\n",
        "iharfi = metin[-1]\n",
        "print(iharfi)\n",
        "#Çıktı: i"
      ],
      "execution_count": null,
      "outputs": [
        {
          "output_type": "stream",
          "text": [
            "i\n"
          ],
          "name": "stdout"
        }
      ]
    },
    {
      "cell_type": "markdown",
      "metadata": {
        "id": "xPgrx41FRbrw"
      },
      "source": [
        "##Metin Katarı Dilimleme\n",
        "Dilimleme, bir metin katarından birden çok karakter (bir alt katar oluşturmak) almak için kullanılır. Söz dizimi indeks numarası ile bir karaktere erişmeye benzer, ancak iki nokta üst üste işaretiyle ayrılmış iki indeks numarası kullanılır. Ör: str[ind1:ind2].\n",
        "\n",
        "Noktalı virgülün solundaki indeks numarası belirlenmezse ilk karakterden itibaren (ilk karakter dahil) seçimin yapılacağı anlamına gelir. Ör: str[:ind2]\n",
        "\n",
        "Noktalı virgülün sağındaki indeks numarası belirlenmezse son karaktere kadar (son karakter dahil) seçimin yapılacağı anlamına gelir. Ör: str[ind1:]"
      ]
    },
    {
      "cell_type": "markdown",
      "metadata": {
        "id": "X_MHtUgUSFpY"
      },
      "source": [
        "**Örnek Uygulama**\n",
        "\n",
        "```\n",
        "metin = \"Python Programlama Dili\"\n",
        "dilimle = metin[:6]      \n",
        "print(dilimle) # Çıktı: Python\n",
        "\n",
        "metin = \"Python Programlama Dili\" \n",
        "print(metin[7:]) # Çıktı: Programlama Dili\n",
        "\n",
        "```\n",
        "\n"
      ]
    },
    {
      "cell_type": "code",
      "metadata": {
        "colab": {
          "base_uri": "https://localhost:8080/"
        },
        "id": "UDTKDiPeNh_a",
        "outputId": "0acbdf55-4fd4-4e2a-f799-7afeb786cac9"
      },
      "source": [
        "# Örnek uygulama çalıştır\n",
        "\n",
        "metin = \"Python Programlama Dili\"\n",
        "dilimle = metin[:6]      \n",
        "print(dilimle)\n",
        "\n",
        "metin = \"Python Programlama Dili\" \n",
        "print(metin[7:])"
      ],
      "execution_count": null,
      "outputs": [
        {
          "output_type": "stream",
          "text": [
            "Python\n",
            "Programlama Dili\n"
          ],
          "name": "stdout"
        }
      ]
    },
    {
      "cell_type": "markdown",
      "metadata": {
        "id": "SjPJOtqUR7rT"
      },
      "source": [
        "**Görev:** Metin katarını dilemleyerek katarda yer alan üç kelimeyi de ayrı ayrı (alt alta) ekrana yazdırın!."
      ]
    },
    {
      "cell_type": "code",
      "metadata": {
        "colab": {
          "base_uri": "https://localhost:8080/"
        },
        "id": "bHxs-WnaSKie",
        "outputId": "3d307c61-9285-476f-88bd-c1a8e90e322f"
      },
      "source": [
        "metin = \"Python Programlama Dili\" \n",
        "print(metin[:6]) \n",
        "metin = \"Phyton Programlama Dili\"\n",
        "print(metin[6:18]) \n",
        "metin = \"Phyton Programlama Dili\"\n",
        "print(metin[18:23])\n",
        "\n",
        "# Çıktı:\n",
        "# Python\n",
        "# Programlama\n",
        "# Dili"
      ],
      "execution_count": null,
      "outputs": [
        {
          "output_type": "stream",
          "text": [
            "Python\n",
            " Programlama\n",
            " Dili\n"
          ],
          "name": "stdout"
        }
      ]
    },
    {
      "cell_type": "markdown",
      "metadata": {
        "id": "aIfLylzcShEG"
      },
      "source": [
        "##In Operatörü\n",
        "Bir metin katarının belirli bir harf ya da bir alt katar içerip içermediğini kontrol etmek için, in anahtar sözcüğü kullanılır."
      ]
    },
    {
      "cell_type": "markdown",
      "metadata": {
        "id": "pZZxStolS-Rg"
      },
      "source": [
        "**Örnek Uygulama**\n",
        "\n",
        "```\n",
        "metin = \"Python Programlama Dili\"\n",
        "print(\"Programlama\" in metin)    # Çıktı: True\n",
        "```\n",
        "\n"
      ]
    },
    {
      "cell_type": "markdown",
      "metadata": {
        "id": "551pDT0YS14M"
      },
      "source": [
        "**Görev:** Metin katarında \"Python\" kelimesinin geçip geçmediğini kontrol ederek ekrana yazdırın!"
      ]
    },
    {
      "cell_type": "code",
      "metadata": {
        "colab": {
          "base_uri": "https://localhost:8080/"
        },
        "id": "2CpxVwHMTENL",
        "outputId": "41f1e43f-1fb7-486a-f037-141d9c7cae25"
      },
      "source": [
        "metin = \"Python Programlama Dili\"\n",
        "print(\"Python\" in metin)"
      ],
      "execution_count": null,
      "outputs": [
        {
          "output_type": "stream",
          "text": [
            "True\n"
          ],
          "name": "stdout"
        }
      ]
    },
    {
      "cell_type": "markdown",
      "metadata": {
        "id": "mKLQLw8_TJyz"
      },
      "source": [
        "##Metin Katarının Uzunluğu\n",
        "Bir metin katarının kaç karakter içerdiğini saymak için len() yerleşik fonksiyonu kullanılır. "
      ]
    },
    {
      "cell_type": "markdown",
      "metadata": {
        "id": "aa4IkB7CTuyr"
      },
      "source": [
        "**Örnek Uygulama**\n",
        "\n",
        "```\n",
        "metin = \"Python programlama dili\"\n",
        "print(len(metin)) # Çıktı: 23\n",
        "```\n",
        "\n"
      ]
    },
    {
      "cell_type": "code",
      "metadata": {
        "colab": {
          "base_uri": "https://localhost:8080/"
        },
        "id": "dOa6Pu2CPpW7",
        "outputId": "7bc03e4c-d06f-4e1c-a20c-3264a3a8fb90"
      },
      "source": [
        "# Örnek uygulamayı çalıştır\n",
        "\n",
        "metin = \"Python programlama dili\"\n",
        "print(len(metin))"
      ],
      "execution_count": null,
      "outputs": [
        {
          "output_type": "stream",
          "text": [
            "23\n"
          ],
          "name": "stdout"
        }
      ]
    },
    {
      "cell_type": "markdown",
      "metadata": {
        "id": "BF5DPvyuTa4R"
      },
      "source": [
        "**Görev:** Metin katarındaki cümlenin ilk yarısını ekrana yazdırın! Yazılan kod cümlenin uzunluğundan bağımsız olarak cümleyi ikiye bölmelidir."
      ]
    },
    {
      "cell_type": "code",
      "metadata": {
        "colab": {
          "base_uri": "https://localhost:8080/"
        },
        "id": "Uvnr2f1XT05N",
        "outputId": "0fe7d655-42a5-4497-b637-9309ce86591e"
      },
      "source": [
        "metin = \"Python programlama dili, dünyada eğitim amacıyla en çok kullanılan programlama dillerinin başında gelir.\"\n",
        "boyut = (len(metin))\n",
        "print(metin[:int(boyut/2)])\n",
        "\n",
        "# Çıktı: Python programlama dili, dünyada eğitim amacıyla en"
      ],
      "execution_count": null,
      "outputs": [
        {
          "output_type": "stream",
          "text": [
            "Python programlama dili, dünyada eğitim amacıyla en \n"
          ],
          "name": "stdout"
        }
      ]
    },
    {
      "cell_type": "markdown",
      "metadata": {
        "id": "T_u1X0aKVAO2"
      },
      "source": [
        "## Özel Karakterlerden Kaçma\n",
        "Metin katarları içerisinde tek ve çift tırnak kullanımı kimi zaman sorunlara yol açmaktadır. Bu karakterin metin katarları içerisinde kullanılabilmesi için \"Ters Eğik Çizgi\" ile birlikte kullanılırlar. \n",
        "\n",
        "Örneğin: 'Önümüzdeki ay \"Ankara'da Python Eğitimi\" gerçekleştirilecek' cümlesindeki tek tırnak kullanımı soruna yol açacağından 'Önümüzdeki ay \"Ankara\\'da Python Eğitimi\" gerçekleştirilecek' şeklinde kullanılmalıdır.\n",
        "\n",
        "**İpucu:** Tek tırnaklı metin katarlarından kaçmak için çift tırnak ya da tam tersi kullanılabilir."
      ]
    },
    {
      "cell_type": "markdown",
      "metadata": {
        "id": "bJX6J5bvVbZa"
      },
      "source": [
        "**Örnek Uygulama**\n",
        "\n",
        "```\n",
        "metin = 'Önümüzdeki ay \"Ankara\\'da Python Eğitimi\" gerçekleştirilecektir.'\n",
        "print(metin) #Çıktı: Önümüzdeki ay \"Ankara'da Python Eğitimi\" gerçekleştirilecektir.\n",
        "\n",
        "metin = 'Önümüzdeki ay \"Ankara'da Python Eğitimi\" gerçekleştirilecektir.'\n",
        "print(metin) # Çıktı: Geçersiz söz dizimi hatası dönecektir. \n",
        "```\n",
        "\n"
      ]
    },
    {
      "cell_type": "code",
      "metadata": {
        "colab": {
          "base_uri": "https://localhost:8080/"
        },
        "id": "GopY-yJSQ8Z_",
        "outputId": "2dd6eced-bf1f-47de-fb90-71330f1b7dd6"
      },
      "source": [
        "# Örnek uygulamayı çalıştır\n",
        "\n",
        "metin = 'Önümüzdeki ay \"Ankara\\'da Python Eğitimi\" gerçekleştirilecektir.'\n",
        "print(metin)"
      ],
      "execution_count": null,
      "outputs": [
        {
          "output_type": "stream",
          "text": [
            "Önümüzdeki ay \"Ankara'da Python Eğitimi\" gerçekleştirilecektir.\n"
          ],
          "name": "stdout"
        }
      ]
    },
    {
      "cell_type": "code",
      "metadata": {
        "colab": {
          "base_uri": "https://localhost:8080/",
          "height": 129
        },
        "id": "a0TZUON2Qd2X",
        "outputId": "17460c54-360b-47f1-bb8f-5a844888f506"
      },
      "source": [
        "# Örnek uygulamadaki hatayı gözlemle\n",
        "\n",
        "metin = 'Önümüzdeki ay \"Ankara'da Python Eğitimi\" gerçekleştirilecektir.'\n",
        "print(metin)"
      ],
      "execution_count": null,
      "outputs": [
        {
          "output_type": "error",
          "ename": "SyntaxError",
          "evalue": "ignored",
          "traceback": [
            "\u001b[0;36m  File \u001b[0;32m\"<ipython-input-73-7067b27e1e4c>\"\u001b[0;36m, line \u001b[0;32m3\u001b[0m\n\u001b[0;31m    metin = 'Önümüzdeki ay \"Ankara'da Python Eğitimi\" gerçekleştirilecektir.'\u001b[0m\n\u001b[0m                                    ^\u001b[0m\n\u001b[0;31mSyntaxError\u001b[0m\u001b[0;31m:\u001b[0m invalid syntax\n"
          ]
        }
      ]
    },
    {
      "cell_type": "markdown",
      "metadata": {
        "id": "5520MewzVPmx"
      },
      "source": [
        "**Görev:** Metin katarındaki cümlede yer alan noktalama işaretlerinden uygun şekilde kaçarak cümleyi ekrana yazdırın!"
      ]
    },
    {
      "cell_type": "code",
      "metadata": {
        "colab": {
          "base_uri": "https://localhost:8080/"
        },
        "id": "A8Gpec2uVhxU",
        "outputId": "46e48488-43a6-43bb-ea5d-2f4563ee71f8"
      },
      "source": [
        "metin = 'Bilimsel çalışmalarda \"Python\" kullanımı Türkiye \\'de çok yaygınlaştı!'\n",
        "print(metin)"
      ],
      "execution_count": null,
      "outputs": [
        {
          "output_type": "stream",
          "text": [
            "Bilimsel çalışmalarda \"Python\" kullanımı Türkiye 'de çok yaygınlaştı!\n"
          ],
          "name": "stdout"
        }
      ]
    },
    {
      "cell_type": "markdown",
      "metadata": {
        "id": "cft6m1VaVqVH"
      },
      "source": [
        "##Basit Metin Katarı Metodları\n",
        "Python içinde birçok yerleşik metin katarı fonksiyonu vardır. En çok kullanılan fonksiyonlardan bazıları olarak;\n",
        "\n",
        "* tüm harfleri büyük harfe dönüştüren *upper()*,\n",
        "* tüm harfleri küçük harfe dönüştüren *lower()*,\n",
        "* sadece cümlenin ilk harfini büyük hale getiren *capitalize()* sayılabilir.\n",
        "\n",
        "**İpucu:** Python'daki yerleşik fonksiyonların bir listesini görüntüleyebilmek için metin katarından sonra bir nokta (.) koyulur ve uygun olan fonksiyonlar arayüz tarafından otomatik olarak listelenir. Bu yardımcı işlevi tetiklemek için CTRL + Bolşuk tuş kombinasyonu da kullanılabilir."
      ]
    },
    {
      "cell_type": "markdown",
      "metadata": {
        "id": "S3-V5gloV3MM"
      },
      "source": [
        "**Örnek Uygulama**\n",
        "\n",
        "```\n",
        "metin = \"Python Programlama Dili\"\n",
        "print(metin.lower())    # Çıktı: python programlama dili\n",
        "print(metin.upper())    # Çıktı: PYTHON PROGRAMLAMA DILI\n",
        "print(metin.capitalize())    # Çıktı: Python programlama dili\n",
        "```\n",
        "\n"
      ]
    },
    {
      "cell_type": "code",
      "metadata": {
        "colab": {
          "base_uri": "https://localhost:8080/"
        },
        "id": "x6OiDHydSKra",
        "outputId": "920a0a2b-b4c0-4e57-d1ea-33351b3067ca"
      },
      "source": [
        "# Örnek uygulamayı çalıştır\n",
        "\n",
        "metin = \"Python Programlama Dili\"\n",
        "print(metin.lower())\n",
        "print(metin.upper())\n",
        "print(metin.capitalize())"
      ],
      "execution_count": null,
      "outputs": [
        {
          "output_type": "stream",
          "text": [
            "python programlama dili\n",
            "PYTHON PROGRAMLAMA DILI\n",
            "Python programlama dili\n"
          ],
          "name": "stdout"
        }
      ]
    },
    {
      "cell_type": "markdown",
      "metadata": {
        "id": "-ko2Gpq_Vz23"
      },
      "source": [
        "**Görev:** *anahtarKelime* ve *arananKelime* değişkenlerinde yer alan metinler karşılaştırıldığında birbirlerine eşit (==) olmalarını sağlayın ve dönen değerin \"True\" olmasını sağlayın!"
      ]
    },
    {
      "cell_type": "code",
      "metadata": {
        "colab": {
          "base_uri": "https://localhost:8080/"
        },
        "id": "XfaN4psBV8wr",
        "outputId": "bc364d68-d7bf-4a62-b8ee-68017564dbc3"
      },
      "source": [
        "anahtarKelime = \"Makine Öğrenmesi\"\n",
        "arananKelime = \"makine öğrenmesi\"\n",
        "print(anahtarKelime.capitalize())\n",
        "print(arananKelime.capitalize())\n",
        "print(anahtarKelime.capitalize() == arananKelime.capitalize()) # Çıktı: True"
      ],
      "execution_count": 19,
      "outputs": [
        {
          "output_type": "stream",
          "text": [
            "Makine öğrenmesi\n",
            "Makine öğrenmesi\n",
            "True\n"
          ],
          "name": "stdout"
        }
      ]
    },
    {
      "cell_type": "markdown",
      "metadata": {
        "id": "16m1oC6LWEdJ"
      },
      "source": [
        "##Metin Katarı Biçimlendirme\n",
        "Bir metin katarından sonraki % operatörü, bir metin katarını değişkenlerle birleştirmek için kullanılır. % operatörü, bir metin katarıdanki % s öğesini, arkasından gelen değişkenle değiştirir. % d sembolü ise, sayısal veya ondalık değerler için yer tutucu olarak kullanılır."
      ]
    },
    {
      "cell_type": "markdown",
      "metadata": {
        "id": "1l70j4-3WP4b"
      },
      "source": [
        "**Örnek Uygulama**\n",
        "\n",
        "```\n",
        "adsoyad = \"Orçun Madran\"\n",
        "dogumTarihi = 1976\n",
        "\n",
        "print(\"Merhaba, ben %s!\" % adsoyad) #  Çıktı: Merhaba, ben Orçun Madran!\n",
        "print(\"Ben %d doğumluyum\" % dogumTarihi) #  Ben 1976 doğumluyum.\n",
        "\n",
        "ad = \"Orçun\"\n",
        "soyad = \"Madran\"\n",
        "\n",
        "print(\"Merhaba, ben %s %s!\" % (ad, soyad)) #  Çıktı: Merhaba, ben Orçun Madran!\n",
        "```\n",
        "\n"
      ]
    },
    {
      "cell_type": "code",
      "metadata": {
        "id": "L1lvJBIVSzRK",
        "colab": {
          "base_uri": "https://localhost:8080/"
        },
        "outputId": "8d3193e8-1605-4d52-b63b-522b9205801a"
      },
      "source": [
        "# Örnek uygulamayı çalıştır\n",
        "\n",
        "adsoyad = \"Orçun Madran\"\n",
        "dogumTarihi = 1976\n",
        "\n",
        "print(\"Merhaba, ben %s!\" % adsoyad)\n",
        "print(\"Ben %d doğumluyum\" % dogumTarihi)"
      ],
      "execution_count": null,
      "outputs": [
        {
          "output_type": "stream",
          "text": [
            "Merhaba, ben Orçun Madran!\n",
            "Ben 1976 doğumluyum\n"
          ],
          "name": "stdout"
        }
      ]
    },
    {
      "cell_type": "code",
      "metadata": {
        "id": "YEhvVmn0TAlx",
        "colab": {
          "base_uri": "https://localhost:8080/"
        },
        "outputId": "4446531f-06ca-477f-e19d-ed66188d11e1"
      },
      "source": [
        "# Örnek uygulamayı çalıştır\n",
        "\n",
        "ad = \"Orçun\"\n",
        "soyad = \"Madran\"\n",
        "\n",
        "print(\"Merhaba, ben %s %s!\" % (ad, soyad))"
      ],
      "execution_count": null,
      "outputs": [
        {
          "output_type": "stream",
          "text": [
            "Merhaba, ben Orçun Madran!\n"
          ],
          "name": "stdout"
        }
      ]
    },
    {
      "cell_type": "markdown",
      "metadata": {
        "id": "b7ny_Q7uWJJX"
      },
      "source": [
        "**Görev:** \"Merhaba Orçun Madran, bu dönemki dersiniz 'Programlama Dilleri'. Başarılar!\" cümlesini ekrana biçimlendirmeyi kullanarak (artı işaretini kullanmadan) yazdırın!"
      ]
    },
    {
      "cell_type": "code",
      "metadata": {
        "id": "HxYY3XqGWYsi",
        "colab": {
          "base_uri": "https://localhost:8080/"
        },
        "outputId": "9aa89fc0-1e88-4264-85f5-386221129bd4"
      },
      "source": [
        "ad = \"Orçun\"\n",
        "soyad = \"Madran\"\n",
        "ders = \"Programlama Dilleri\"\n",
        "print(\"merhaba, %s %s bu dönemki  dersiniz %s. Başarılar!\" % (ad, soyad, ders))\n",
        "\n",
        "# Çıktı: Merhaba Orçun Madran, bu dönemki dersiniz \"Programlama Dilleri\". Başarılar!"
      ],
      "execution_count": null,
      "outputs": [
        {
          "output_type": "stream",
          "text": [
            "merhaba, Orçun Madran bu dönemki  dersiniz Programlama Dilleri. Başarılar!\n"
          ],
          "name": "stdout"
        }
      ]
    },
    {
      "cell_type": "markdown",
      "metadata": {
        "id": "nTiryVt-EuJP"
      },
      "source": [
        "# Bölüm 04: Veri Yapılar\n",
        "\n",
        "Bu bölümde:\n",
        "\n",
        "*   Listeler,\n",
        "*   Liste işlemleri,\n",
        "*   Liste öğeleri,\n",
        "*   Demetler (Tuples),\n",
        "*   Sözlükler,\n",
        "*   Sözlük değerleri ve anahtarları,\n",
        "*   In anahtar kelimesinin kullanımı yer almaktadır.\n"
      ]
    },
    {
      "cell_type": "markdown",
      "metadata": {
        "id": "H78J_wNDE1Id"
      },
      "source": [
        "## Listeler\n",
        "Liste, birden fazla değeri tek bir değişken adı altında saklamak için kullanabileceğiniz bir veri yapısıdır. Bir liste köşeli parantez arasında virgülle ayrılmış değerler dizisi olarak yazılır. Ör: liste = [deger1, deger2].\n",
        "\n",
        "Listeler farklı türden öğeler içerebilir, ancak genellikle listedeki tüm öğeler aynı türdedir. Metin katarları gibi listeler de dizine eklenebilir ve dilimlenebilir. (Bkz. Bölüm 3)."
      ]
    },
    {
      "cell_type": "markdown",
      "metadata": {
        "id": "O4TC5Qs2Ge8H"
      },
      "source": [
        "**Örnek Uygulama**\n",
        "\n",
        "```\n",
        "acikListe = [\"Açık Bilim\", \"Açık Erişim\", \"Açık Veri\", \"Açık Eğitim\", \"Açık Kaynak\"]   # acikListe adında yeni bir liste oluşturur\n",
        "\n",
        "print(acikListe) # Çıktı: ['Açık Bilim', 'Açık Erişim', 'Açık Veri', 'Açık Eğitim', 'Açık Kaynak']\n",
        "```\n",
        "\n"
      ]
    },
    {
      "cell_type": "code",
      "metadata": {
        "id": "p1GRzMQkUgX0",
        "colab": {
          "base_uri": "https://localhost:8080/"
        },
        "outputId": "14c01086-a17c-46be-ce26-76ef586766ce"
      },
      "source": [
        "# Örnek uygulamayı çalıştır\n",
        "\n",
        "acikListe = [\"Açık Bilim\", \"Açık Erişim\", \"Açık Veri\", \"Açık Eğitim\", \"Açık Kaynak\"]\n",
        "print(acikListe )"
      ],
      "execution_count": null,
      "outputs": [
        {
          "output_type": "stream",
          "text": [
            "['Açık Bilim', 'Açık Erişim', 'Açık Veri', 'Açık Eğitim', 'Açık Kaynak']\n"
          ],
          "name": "stdout"
        }
      ]
    },
    {
      "cell_type": "markdown",
      "metadata": {
        "id": "ZqYRBLZSIJvi"
      },
      "source": [
        "**Görev 1:** acikListe içinde yer alan 3. liste öğesini ekrana yazıdırın! "
      ]
    },
    {
      "cell_type": "code",
      "metadata": {
        "id": "bVSMLdnLG7Kx",
        "colab": {
          "base_uri": "https://localhost:8080/"
        },
        "outputId": "a4be2599-f2fc-490e-efb8-2560d4fc134e"
      },
      "source": [
        "acikListe = [\"Açık Bilim\", \"Açık Erişim\", \"Açık Veri\", \"Açık Eğitim\", \"Açık Kaynak\"]\n",
        "print(acikListe [3])"
      ],
      "execution_count": null,
      "outputs": [
        {
          "output_type": "stream",
          "text": [
            "Açık Eğitim\n"
          ],
          "name": "stdout"
        }
      ]
    },
    {
      "cell_type": "markdown",
      "metadata": {
        "id": "pZ4hTBC0JCln"
      },
      "source": [
        "**Görev 2:** acikListe içinde yer alan 4. ve 5. liste öğesini ekrana yazıdırın! "
      ]
    },
    {
      "cell_type": "code",
      "metadata": {
        "id": "_DgLPxODI3aP",
        "colab": {
          "base_uri": "https://localhost:8080/"
        },
        "outputId": "d7b4d3e3-8257-4177-ab77-545f4d68939b"
      },
      "source": [
        "acikListe = [\"Açık Bilim\", \"Açık Erişim\", \"Açık Veri\", \"Açık Eğitim\", \"Açık Kaynak\"]\n",
        "print(acikListe [3:5])"
      ],
      "execution_count": null,
      "outputs": [
        {
          "output_type": "stream",
          "text": [
            "['Açık Eğitim', 'Açık Kaynak']\n"
          ],
          "name": "stdout"
        }
      ]
    },
    {
      "cell_type": "markdown",
      "metadata": {
        "id": "D_Vt3_mQJq9Q"
      },
      "source": [
        "## Liste İşlemleri\n",
        "append() fonksiyonunu kullanarak ya da artırılmış atama operatörü ( += ) yardımıyla listenin sonuna yeni öğeler (değerler) eklenebilir.  Listelerin içindeki öğeler güncellenebilir, yani liste[indeksNo] = yeni_deger kullanarak içeriklerini değiştirmek mümkündür."
      ]
    },
    {
      "cell_type": "markdown",
      "metadata": {
        "id": "3xGEUhipL11G"
      },
      "source": [
        "**Örnek Uygulama**\n",
        "\n",
        "```\n",
        "acikListe = [\"Açık Bilim\", \"Açık Erişim\", \"Açık Veri\", \"Açık Eğitim\", \"Açık Kaynak\"]   # acikListe adında yeni bir liste oluşturur\n",
        "print(acikListe) # Çıktı: ['Açık Bilim', 'Açık Erişim', 'Açık Veri', 'Açık Eğitim', 'Açık Kaynak']\n",
        "\n",
        "acikListe += [\"Açık Donanım\", \"Açık İnovasyon\"]    # listeye iki yeni öğe ekler\n",
        "print(acikListe) # Çıktı: ['Açık Bilim', 'Açık Erişim', 'Açık Veri', 'Açık Eğitim', 'Açık Kaynak', 'Açık Donanım', 'Açık İnovasyon']\n",
        "\n",
        "acikListe.append(\"Açık Veri Gazeteciliği\")   # listeye yeni bir öğe ekler\n",
        "print(acikListe) # Çıktı: ['Açık Bilim', 'Açık Erişim', 'Açık Veri', 'Açık Eğitim', 'Açık Kaynak', 'Açık Donanım', 'Açık İnovasyon', 'Açık Veri Gazeteciliği']\n",
        "\n",
        "acikListe[4] = \"Açık Kaynak Kod\" # listenin 5. öğesini değiştirir\n",
        "print(acikListe) # Çıktı: ['Açık Bilim', 'Açık Erişim', 'Açık Veri', 'Açık Eğitim', 'Açık Kaynak Kod', 'Açık Donanım', 'Açık İnovasyon', 'Açık Veri Gazeteciliği']\n",
        "```\n",
        "\n"
      ]
    },
    {
      "cell_type": "code",
      "metadata": {
        "id": "YlhpK0Y2VbBw",
        "colab": {
          "base_uri": "https://localhost:8080/"
        },
        "outputId": "667c933e-a839-424d-ad03-312ec53971b8"
      },
      "source": [
        "# Örnek uygulamayı çalıştır\n",
        "\n",
        "acikListe = [\"Açık Bilim\", \"Açık Erişim\", \"Açık Veri\", \"Açık Eğitim\", \"Açık Kaynak\"]\n",
        "print(acikListe)\n",
        " \n",
        "acikListe += [\"Açık Donanım\", \"Açık İnovasyon\"] \n",
        "print(acikListe)\n",
        " \n",
        "acikListe.append(\"Açık Veri Gazeteciliği\")\n",
        "print(acikListe)\n",
        " \n",
        "acikListe[4] = \"Açık Kaynak Kod\"\n",
        "print(acikListe)"
      ],
      "execution_count": null,
      "outputs": [
        {
          "output_type": "stream",
          "text": [
            "['Açık Bilim', 'Açık Erişim', 'Açık Veri', 'Açık Eğitim', 'Açık Kaynak']\n",
            "['Açık Bilim', 'Açık Erişim', 'Açık Veri', 'Açık Eğitim', 'Açık Kaynak', 'Açık Donanım', 'Açık İnovasyon']\n",
            "['Açık Bilim', 'Açık Erişim', 'Açık Veri', 'Açık Eğitim', 'Açık Kaynak', 'Açık Donanım', 'Açık İnovasyon', 'Açık Veri Gazeteciliği']\n",
            "['Açık Bilim', 'Açık Erişim', 'Açık Veri', 'Açık Eğitim', 'Açık Kaynak Kod', 'Açık Donanım', 'Açık İnovasyon', 'Açık Veri Gazeteciliği']\n"
          ],
          "name": "stdout"
        }
      ]
    },
    {
      "cell_type": "markdown",
      "metadata": {
        "id": "5hgUnMj7ODY1"
      },
      "source": [
        "**Görev:** bilgiBilim adlı bir liste oluşturun. Bu listeye bilgi bilim disiplini ile ilgili 3 adet anahtar kelime ya da kavram ekleyin. Bu listeyi ekrana yazdırın. Listeye istediğiniz bir yöntem ile (append(), +=) 2 yeni öğe ekleyin. Ekrana listenin son durumunu yazdırın. Listenizdeki son öğeyi değiştirin. Listenin son halini ekrana yazıdırn."
      ]
    },
    {
      "cell_type": "code",
      "metadata": {
        "id": "_gzwR_UGLkL4",
        "colab": {
          "base_uri": "https://localhost:8080/"
        },
        "outputId": "bb827c01-2cfe-44d3-a175-ff734975e304"
      },
      "source": [
        "#bilgiBilim\n",
        "bilgiBilim = [\"kütüphane\", \"arşiv\", \"kayıt\"]\n",
        "print(bilgiBilim)\n",
        "bilgiBilim += [\"enformasyon\", \"dökümantasyon\"]\n",
        "print(bilgiBilim)\n",
        "bilgiBilim.append(\"kayıt yönetimi\")\n",
        "print(bilgiBilim)\n",
        "bilgiBilim[5] = \"kütüphanecilik\"\n",
        "print(bilgiBilim)"
      ],
      "execution_count": null,
      "outputs": [
        {
          "output_type": "stream",
          "text": [
            "['kütüphane', 'arşiv', 'kayıt']\n",
            "['kütüphane', 'arşiv', 'kayıt', 'enformasyon', 'dökümantasyon']\n",
            "['kütüphane', 'arşiv', 'kayıt', 'enformasyon', 'dökümantasyon', 'kayıt yönetimi']\n",
            "['kütüphane', 'arşiv', 'kayıt', 'enformasyon', 'dökümantasyon', 'kütüphanecilik']\n"
          ],
          "name": "stdout"
        }
      ]
    },
    {
      "cell_type": "markdown",
      "metadata": {
        "id": "qiE0PiXLPQmM"
      },
      "source": [
        "## Liste Öğeleri"
      ]
    },
    {
      "cell_type": "markdown",
      "metadata": {
        "id": "S7yYWbwTPXQ8"
      },
      "source": [
        "Liste öğelerini dilimleme (slice) yaparak da atamak mümkündür. Bu bir listenin boyutunu değiştirebilir veya listeyi tamamen temizleyebilir."
      ]
    },
    {
      "cell_type": "markdown",
      "metadata": {
        "id": "_ooqgLJbPsXC"
      },
      "source": [
        "**Örnek Uygulama**\n",
        "\n",
        "```\n",
        "acikListe = [\"Açık Bilim\", \"Açık Erişim\", \"Açık Veri\", \"Açık Eğitim\", \"Açık Kaynak\"]   # acikListe adında yeni bir liste oluşturur\n",
        "print(acikListe) # Çıktı: ['Açık Bilim', 'Açık Erişim', 'Açık Veri', 'Açık Eğitim', 'Açık Kaynak']\n",
        "\n",
        "acikListe[2:4] = [\"Açık İnovasyon\"]    # \"Açık Veri\" ve \"Açık Eğitim\" öğelerinin yerine tek bir öğe ekler\n",
        "print(acikListe)  #Çıktı:  [\"Açık Bilim\", \"Açık Erişim\", \"Açık İnovasyon\", \"Açık Kaynak\"]\n",
        "\n",
        "acikListe[:2] = []     # listenin ilk iki öğesini siler\n",
        "print(acikListe)  #Çıktı:  [\"Açık İnovasyon\", \"Açık Kaynak\"]\n",
        "\n",
        "acikListe[:] = [] # listeyi temizler \n",
        "print(acikListe)  #Çıktı: []\n",
        "```\n",
        "\n"
      ]
    },
    {
      "cell_type": "code",
      "metadata": {
        "id": "ZTD-lZlkWPQZ",
        "colab": {
          "base_uri": "https://localhost:8080/"
        },
        "outputId": "1b536dfa-154a-4e93-8200-0475b386e674"
      },
      "source": [
        "# Örnek uygulamayı çalıştır\n",
        "\n",
        "acikListe = [\"Açık Bilim\", \"Açık Erişim\", \"Açık Veri\", \"Açık Eğitim\", \"Açık Kaynak\"]\n",
        "print(acikListe)\n",
        "\n",
        "acikListe[2:4] = [\"Açık İnovasyon\"]\n",
        "print(acikListe)\n",
        "\n",
        "acikListe[:2] = []\n",
        "print(acikListe)\n",
        "\n",
        "acikListe[:] = []\n",
        "print(acikListe)"
      ],
      "execution_count": null,
      "outputs": [
        {
          "output_type": "stream",
          "text": [
            "['Açık Bilim', 'Açık Erişim', 'Açık Veri', 'Açık Eğitim', 'Açık Kaynak']\n",
            "['Açık Bilim', 'Açık Erişim', 'Açık İnovasyon', 'Açık Kaynak']\n",
            "['Açık İnovasyon', 'Açık Kaynak']\n",
            "[]\n"
          ],
          "name": "stdout"
        }
      ]
    },
    {
      "cell_type": "markdown",
      "metadata": {
        "id": "4C3xLijJSKdE"
      },
      "source": [
        "**Görev:** Önceki görevde oluşturulan \"bilgiBilim\" adlı listenin istediğiniz öğesini silerek listenin güncel halini ekrana yazdırın. Listeyi tamamen temizleyerek listenin güncel halini ekrana yazdırın."
      ]
    },
    {
      "cell_type": "code",
      "metadata": {
        "colab": {
          "base_uri": "https://localhost:8080/"
        },
        "id": "_gMXreDmK7GR",
        "outputId": "92afeded-ddbe-4bde-b687-00f0de1bd87e"
      },
      "source": [
        "bilgiBilim = [\"kütüphane\", \"arşiv\", \"kayıt\"] \n",
        "print(bilgiBilim)\n",
        "bilgiBilim[:2]= []\n",
        "print(bilgiBilim)\n",
        "bilgiBilim[:] = []\n",
        "print(bilgiBilim)"
      ],
      "execution_count": null,
      "outputs": [
        {
          "output_type": "stream",
          "text": [
            "['kütüphane', 'arşiv', 'kayıt']\n",
            "['kayıt']\n",
            "[]\n"
          ],
          "name": "stdout"
        }
      ]
    },
    {
      "cell_type": "markdown",
      "metadata": {
        "id": "J_f83oCDS-Hz"
      },
      "source": [
        "## Demetler (Tuples)"
      ]
    },
    {
      "cell_type": "markdown",
      "metadata": {
        "id": "9er0WsfhTBpI"
      },
      "source": [
        "Demetler neredeyse listelerle aynı. Demetler ve listeler arasındaki tek önemli fark, demetlerin değiştirilememesidir. Demetlere öğe eklenmez, öğe değiştirilmez veya demetlerden öğe silinemez. Demetler, parantez içine alınmış bir virgül operatörü tarafından oluşturulur. Ör: demet = (\"deger1\", \"deger2\", \"deger3\"). Tek bir öğe demetinde (\"d\",) gibi bir virgül olmalıdır."
      ]
    },
    {
      "cell_type": "markdown",
      "metadata": {
        "id": "h95qzA42Tti-"
      },
      "source": [
        "**Örnek Uygulama**\n",
        "\n",
        "```\n",
        "ulkeKodlari = (\"TR\", \"US\", \"EN\", \"JP\")\n",
        "print(ulkeKodlari)   # Çıktı: ('TR', 'US', 'EN', 'JP')\n",
        "```\n",
        "\n"
      ]
    },
    {
      "cell_type": "code",
      "metadata": {
        "id": "XHSZ06qzWxmB",
        "colab": {
          "base_uri": "https://localhost:8080/"
        },
        "outputId": "23c26d11-c043-4273-ede9-ca51d7b4578c"
      },
      "source": [
        "# Örnek uygulamayı çalıştır\n",
        "\n",
        "ulkeKodlari = (\"TR\", \"US\", \"EN\", \"JP\")\n",
        "print(ulkeKodlari)"
      ],
      "execution_count": null,
      "outputs": [
        {
          "output_type": "stream",
          "text": [
            "('TR', 'US', 'EN', 'JP')\n"
          ],
          "name": "stdout"
        }
      ]
    },
    {
      "cell_type": "markdown",
      "metadata": {
        "id": "ON1kJ2-nU2ZO"
      },
      "source": [
        "**Görev:** Kongre Kütüphanesi konu başlıkları listesinin kodlarından oluşan bir demet oluşturun ve ekrana yazdırın! Oluşturulan demet içindeki tek bir öğeyi ekrana yazdırın!"
      ]
    },
    {
      "cell_type": "code",
      "metadata": {
        "id": "p4i7BTX1Uv9S",
        "colab": {
          "base_uri": "https://localhost:8080/"
        },
        "outputId": "09375fb9-d5ac-4081-9a79-9acb11d9c3fd"
      },
      "source": [
        "#konuBasliklari\n",
        "konuBasliklari = (\"a\", \"b\", \"c\")\n",
        "print(konuBasliklari)"
      ],
      "execution_count": null,
      "outputs": [
        {
          "output_type": "stream",
          "text": [
            "('a', 'b', 'c')\n"
          ],
          "name": "stdout"
        }
      ]
    },
    {
      "cell_type": "markdown",
      "metadata": {
        "id": "HkDm5do0Vduc"
      },
      "source": [
        "## Sözlükler\n",
        "Sözlük, listeye benzer, ancak sözlük içindeki değerlere indeks numarası yerine bir anahtara ile erişilebilir. Bir anahtar herhangi bir metin katarı veya rakam olabilir. Sözlükler ayraç içine alınır. Ör: sozluk = {'anahtar1': \"değer1\", 'anahtar2': \"değer2\"}."
      ]
    },
    {
      "cell_type": "markdown",
      "metadata": {
        "id": "e1BbS2f3V9le"
      },
      "source": [
        "**Örnek Uygulama**\n",
        "\n",
        "```\n",
        "adresDefteri = {\"Hacettepe Üniversitesi\": \"hacettepe.edu.tr\", \"ODTÜ\": \"odtu.edu.tr\", \"Bilkent Üniversitesi\": \"bilkent.edu.tr\"} # yeni bir sözlük oluşturur\n",
        "print(adresDefteri) # Çıktı: {'Hacettepe Üniversitesi': 'hacettepe.edu.tr', 'ODTÜ': 'odtu.edu.tr', 'Bilkent Üniversitesi': 'bilkent.edu.tr'}\n",
        "\n",
        "adresDefteri[\"Ankara Üniversitesi\"] = \"ankara.edu.tr\" #sözlüğe yeni bir öğe ekler\n",
        "print(adresDefteri)  # Çıktı: {'Hacettepe Üniversitesi': 'hacettepe.edu.tr', 'ODTÜ': 'odtu.edu.tr', 'Bilkent Üniversitesi': 'bilkent.edu.tr', 'Ankara Üniversitesi': 'ankara.edu.tr'}\n",
        "\n",
        "del adresDefteri [\"Ankara Üniversitesi\"] #sözlükten belirtilen öğeyi siler\n",
        "print(adresDefteri) # Çıktı: {'Hacettepe Üniversitesi': 'hacettepe.edu.tr', 'ODTÜ': 'odtu.edu.tr', 'Bilkent Üniversitesi': 'bilkent.edu.tr'}\n",
        "```\n",
        "\n"
      ]
    },
    {
      "cell_type": "code",
      "metadata": {
        "id": "T1DFoRVIXJtN",
        "colab": {
          "base_uri": "https://localhost:8080/"
        },
        "outputId": "faaa0cd2-8401-4438-bafe-41a466acad54"
      },
      "source": [
        "# Örnek uygulamayı çalıştır\n",
        "\n",
        "adresDefteri = {\"Hacettepe Üniversitesi\": \"hacettepe.edu.tr\", \"ODTÜ\": \"odtu.edu.tr\", \"Bilkent Üniversitesi\": \"bilkent.edu.tr\"}\n",
        "print(adresDefteri)\n",
        "\n",
        "adresDefteri[\"Ankara Üniversitesi\"] = \"ankara.edu.tr\"\n",
        "print(adresDefteri)\n",
        "\n",
        "del adresDefteri [\"Ankara Üniversitesi\"]\n",
        "print(adresDefteri)"
      ],
      "execution_count": null,
      "outputs": [
        {
          "output_type": "stream",
          "text": [
            "{'Hacettepe Üniversitesi': 'hacettepe.edu.tr', 'ODTÜ': 'odtu.edu.tr', 'Bilkent Üniversitesi': 'bilkent.edu.tr'}\n",
            "{'Hacettepe Üniversitesi': 'hacettepe.edu.tr', 'ODTÜ': 'odtu.edu.tr', 'Bilkent Üniversitesi': 'bilkent.edu.tr', 'Ankara Üniversitesi': 'ankara.edu.tr'}\n",
            "{'Hacettepe Üniversitesi': 'hacettepe.edu.tr', 'ODTÜ': 'odtu.edu.tr', 'Bilkent Üniversitesi': 'bilkent.edu.tr'}\n"
          ],
          "name": "stdout"
        }
      ]
    },
    {
      "cell_type": "markdown",
      "metadata": {
        "id": "fDWQzlKTXYbo"
      },
      "source": [
        "**Görev:** İstediğin herhangi bir konuda 5 öğeye sahip bir sözlük oluştur. Sözlüğü ekrana yazdır. Sözlükteki belirli bir öğeyi ekrana yazdır. Sözlükteki belirli bir öğeyi silerek sözlüğün güncel halini ekrana yazdır!"
      ]
    },
    {
      "cell_type": "code",
      "metadata": {
        "id": "t4-oPZTRXEuQ",
        "colab": {
          "base_uri": "https://localhost:8080/"
        },
        "outputId": "148a8d4a-624b-4eed-8a51-8bf44f9a2317"
      },
      "source": [
        "#sozluk\n",
        "sozluk= {\"Ardahan\":\"çıldır\",\"Kars\":\"Selim\",\"İstanbul\":\"büyükçekmece\",\"Ankara\":\"Beytepe\",\"İzmir\":\"Göztepe\"}\n",
        "print(sozluk)\n",
        "del sozluk [\"Kars\"]\n",
        "print(sozluk)\n"
      ],
      "execution_count": 18,
      "outputs": [
        {
          "output_type": "stream",
          "text": [
            "{'Ardahan': 'çıldır', 'Kars': 'Selim', 'İstanbul': 'büyükçekmece', 'Ankara': 'Beytepe', 'İzmir': 'Göztepe'}\n",
            "{'Ardahan': 'çıldır', 'İstanbul': 'büyükçekmece', 'Ankara': 'Beytepe', 'İzmir': 'Göztepe'}\n"
          ],
          "name": "stdout"
        }
      ]
    },
    {
      "cell_type": "markdown",
      "metadata": {
        "id": "9qqctZNZX6q4"
      },
      "source": [
        "## Sözlük Değerleri ve Anahtarları\n",
        "Sözlüklerde values() ve keys() gibi birçok yararlı fonksiyon vardır. Bir sozlük adı ve ardından noktadan sonra çıkan listeyi kullanarak geri kalan fonksiyolar incelenebilir."
      ]
    },
    {
      "cell_type": "markdown",
      "metadata": {
        "id": "EaYu0M-1Ydia"
      },
      "source": [
        "**Örnek Uygulama**\n",
        "\n",
        "```\n",
        "adresDefteri = {\"Hacettepe Üniversitesi\": \"hacettepe.edu.tr\", \"ODTÜ\": \"odtu.edu.tr\", \"Bilkent Üniversitesi\": \"bilkent.edu.tr\"} # yeni bir sözlük oluşturur\n",
        "print(adresDefteri) # Çıktı: {'Hacettepe Üniversitesi': 'hacettepe.edu.tr', 'ODTÜ': 'odtu.edu.tr', 'Bilkent Üniversitesi': 'bilkent.edu.tr'}\n",
        "\n",
        "print(adresDefteri.values()) # Çıktı: dict_values(['hacettepe.edu.tr', 'odtu.edu.tr', 'bilkent.edu.tr'])\n",
        "\n",
        "print(adresDefteri.keys()) # Çıktı: dict_keys(['Hacettepe Üniversitesi', 'ODTÜ', 'Bilkent Üniversitesi'])\n",
        "```\n",
        "\n"
      ]
    },
    {
      "cell_type": "code",
      "metadata": {
        "id": "b07Mqre3XqoH",
        "colab": {
          "base_uri": "https://localhost:8080/"
        },
        "outputId": "98edbda7-0234-4733-9ecc-2a169555b7e4"
      },
      "source": [
        "# Örnek uygulamayı çalıştır\n",
        "\n",
        "adresDefteri = {\"Hacettepe Üniversitesi\": \"hacettepe.edu.tr\", \"ODTÜ\": \"odtu.edu.tr\", \"Bilkent Üniversitesi\": \"bilkent.edu.tr\"}\n",
        "print(adresDefteri)\n",
        "\n",
        "print(adresDefteri.values())\n",
        "\n",
        "print(adresDefteri.keys())"
      ],
      "execution_count": null,
      "outputs": [
        {
          "output_type": "stream",
          "text": [
            "{'Hacettepe Üniversitesi': 'hacettepe.edu.tr', 'ODTÜ': 'odtu.edu.tr', 'Bilkent Üniversitesi': 'bilkent.edu.tr'}\n",
            "dict_values(['hacettepe.edu.tr', 'odtu.edu.tr', 'bilkent.edu.tr'])\n",
            "dict_keys(['Hacettepe Üniversitesi', 'ODTÜ', 'Bilkent Üniversitesi'])\n"
          ],
          "name": "stdout"
        }
      ]
    },
    {
      "cell_type": "markdown",
      "metadata": {
        "id": "twxTKZ-XY_5l"
      },
      "source": [
        "**Görev:** İstediğin bir konuda istediğin öğe saysına sahip bir sözlük oluştur. Sözlükler ile ilgili farklı fonksiyoları dene. Sonuçları ekrana yazdır!"
      ]
    },
    {
      "cell_type": "code",
      "metadata": {
        "id": "CcNcGoOaZfja",
        "colab": {
          "base_uri": "https://localhost:8080/"
        },
        "outputId": "c2edb44f-6a4b-42b5-a97d-65a558b09398"
      },
      "source": [
        "#yeniSozluk\n",
        "sozluk = {\"a\":\"b\",\"c\":\"d\",\"e\":\"f\"}\n",
        "print(sozluk)\n",
        "sozluk = {\"a\":\"b\",\"c\":\"d\",\"e\":\"f\"}\n",
        "print(sozluk.values())\n",
        "sozluk = {\"a\":\"b\",\"c\":\"d\",\"e\":\"f\"}\n",
        "print(sozluk.keys())\n",
        "\n"
      ],
      "execution_count": null,
      "outputs": [
        {
          "output_type": "stream",
          "text": [
            "{'a': 'b', 'c': 'd', 'e': 'f'}\n",
            "dict_values(['b', 'd', 'f'])\n",
            "dict_keys(['a', 'c', 'e'])\n"
          ],
          "name": "stdout"
        }
      ]
    },
    {
      "cell_type": "markdown",
      "metadata": {
        "id": "iFlaNCzFpdIj"
      },
      "source": [
        "##In Anahtar Kelimesi\n",
        "\"In\" anahtar sözcüğü, bir listenin veya sözlüğün belirli bir öğe içerip içermediğini kontrol etmek için kullanılır. Daha önce metin katarlarındaki kullanıma benzer bir kullanımı vardır. \"In\" anahtar sözcüğü ile öğe kontrolü yapıldıktan sonra sonuç, öğe listede ya da sözlükte yer alıyorsa *True* yer almıyorsa *False* olarak geri döner.\n",
        "\n",
        "**Dikkat**: Aranan öğe ile liste ya da sözlük içinde yer alan öğelerin karşılaştırılması sırasında büyük-küçük harf duyarlılığı bulunmaktadır. Ör: \"Bilgi\" ve \"bilgi\" iki farklı öğe olarak değerlendirilir."
      ]
    },
    {
      "cell_type": "markdown",
      "metadata": {
        "id": "rZ-pjki1q6bs"
      },
      "source": [
        "**Örnek Uygulama**\n",
        "\n",
        "```\n",
        "bilgiKavramları = [\"indeks\", \"erişim\", \"koleksiyon\"]   # yeni bir liste oluşturur\n",
        "print(\"Erişim\" in bilgiKavramları)    # Çıktı: False\n",
        "\n",
        "bilgiSozlugu = {\"indeks\": \"index\", \"erişim\": \"access\", \"koleksiyon\": \"collection\"}   # yeni bir sozluk oluşturur\n",
        "print(\"koleksiyon\" in bilgiSozlugu.keys())  #  çıktı: True\n",
        "```\n",
        "\n"
      ]
    },
    {
      "cell_type": "code",
      "metadata": {
        "id": "rCDZFucUYbGC",
        "colab": {
          "base_uri": "https://localhost:8080/"
        },
        "outputId": "1edef4f2-7149-46b0-a967-0b5c47416870"
      },
      "source": [
        "# Örnek uygulamayı çalıştır\n",
        "\n",
        "bilgiKavramları = [\"indeks\", \"erişim\", \"koleksiyon\"]\n",
        "print(\"Erişim\" in bilgiKavramları)\n",
        "\n",
        "bilgiSozlugu = {\"indeks\": \"index\", \"erişim\": \"access\", \"koleksiyon\": \"collection\"}\n",
        "print(\"koleksiyon\" in bilgiSozlugu.keys())"
      ],
      "execution_count": null,
      "outputs": [
        {
          "output_type": "stream",
          "text": [
            "False\n",
            "True\n"
          ],
          "name": "stdout"
        }
      ]
    },
    {
      "cell_type": "markdown",
      "metadata": {
        "id": "Pdn_zG-mq9Sx"
      },
      "source": [
        "**Görev:** Bir liste ve bir sözlük oluşturun. Liste içinde istediğiniz kelimeyi aratın ve sonucunu ekrana yazdırın! Oluşturduğunuz sözlüğün içinde hem anahtar kelime (keys()) hem de değer (values()) kontrolü yaptırın ve sonucunu ekrana yazdırın!"
      ]
    },
    {
      "cell_type": "code",
      "metadata": {
        "id": "3Sl_XODcq1mL",
        "colab": {
          "base_uri": "https://localhost:8080/"
        },
        "outputId": "8ef3d61b-3468-41b1-dcd1-8327dffd5f7c"
      },
      "source": [
        "#yeniListe\n",
        "#yeniSozluk\n",
        "yeniListe=[\"ayı\",\"köpek\",\"kedi\"]\n",
        "print(\"ayı\" in yeniListe)\n",
        "yeniSozluk= {\"ayı\":\"kahverengi\",\"köpek\":\"siyah\",\"kedi\":\"gri\"}\n",
        "print(\"kedi\" in yeniSozluk.keys())\n",
        "yeniSozluk= {\"ayı\":\"kahverengi\",\"köpek\":\"siyah\",\"kedi\":\"gri\"}\n",
        "print(\"kedi\" in yeniSozluk.values())"
      ],
      "execution_count": null,
      "outputs": [
        {
          "output_type": "stream",
          "text": [
            "True\n",
            "True\n",
            "False\n"
          ],
          "name": "stdout"
        }
      ]
    },
    {
      "cell_type": "markdown",
      "metadata": {
        "id": "o68yxOoTx1vA"
      },
      "source": [
        "#Bölüm 05: Koşullu İfadeler\n",
        "\n",
        "Bu bölümde:\n",
        "\n",
        "*   Mantıksal operatörler,\n",
        "*   If cümleciği,\n",
        "*   Else ve elif kullanımı yer almatadır."
      ]
    },
    {
      "cell_type": "markdown",
      "metadata": {
        "id": "0R6l7TiLyI1H"
      },
      "source": [
        "##Mantıksal Operatörler\n",
        "Mantıksal operatörler ifadeleri karşılaştırır ve sonuçları *True* ya da *False* değerleriyle döndürür. Python'da üç tane mantıksal operatör bulunur:\n",
        "\n",
        "1. \"and\" operatörü: Her iki yanındaki ifadeler doğru olduğunda *True* değerini döndürür.\n",
        "2. \"or\" operatörü: Her iki tarafındaki ifadelerden en az bir ifade doğru olduğunda \"True\" değerini döndürür.\n",
        "3. \"not\" operatörü: İfadenin tam tersi olarak değerlendirilmesini sağlar.\n"
      ]
    },
    {
      "cell_type": "markdown",
      "metadata": {
        "id": "6HZvGmjG1rxk"
      },
      "source": [
        "**Örnek Uygulama**\n",
        "\n",
        "```\n",
        "kullaniciAdi = \"orcunmadran\"\n",
        "sifre = 123456\n",
        "print(kullaniciAdi == \"orcunmadran\" and sifre == 123456) # Çıktı: True\n",
        "\n",
        "kullaniciAdi = \"orcunmadran\"\n",
        "sifre = 123456\n",
        "print(kullaniciAdi == \"orcunmadran\" and not sifre == 123456) # Çıktı: False\n",
        "\n",
        "cepTel = \"05321234567\"\n",
        "ePosta = \"orcunmadran@gmail.com\"\n",
        "print(cepTel == \"\" or ePosta == \"orcunmadran@gmail.com\" ) # Çıktı: True\n",
        "```\n",
        "\n"
      ]
    },
    {
      "cell_type": "code",
      "metadata": {
        "id": "2e6sRcxoayBf",
        "colab": {
          "base_uri": "https://localhost:8080/"
        },
        "outputId": "f35e0ee1-61f8-4aa0-ef34-207c2ae85a22"
      },
      "source": [
        "# Örnek uygulamayı çalıştır\n",
        "\n",
        "kullaniciAdi = \"orcunmadran\"\n",
        "sifre = 123456\n",
        "print(kullaniciAdi == \"orcunmadran\" and sifre == 123456)\n",
        "\n",
        "kullaniciAdi = \"orcunmadran\"\n",
        "sifre = 123456\n",
        "print(kullaniciAdi == \"orcunmadran\" and not sifre == 123456)\n",
        "\n",
        "cepTel = \"05321234567\"\n",
        "ePosta = \"orcunmadran@gmail.com\"\n",
        "print(cepTel == \"\" or ePosta == \"orcunmadran@gmail.com\" )"
      ],
      "execution_count": null,
      "outputs": [
        {
          "output_type": "stream",
          "text": [
            "True\n",
            "False\n",
            "True\n"
          ],
          "name": "stdout"
        }
      ]
    },
    {
      "cell_type": "markdown",
      "metadata": {
        "id": "nwkgY8TZ5NcI"
      },
      "source": [
        "**Görev:** Klavyeden girilen kullanıcı adı ve şifrenin kayıtlı bulunan kullanıcı adı ve şifre ile uyuşup uyuşmadığını kontrol edin ve sonucu ekrana yazdırın!"
      ]
    },
    {
      "cell_type": "code",
      "metadata": {
        "id": "XMHB4_dY3B1v",
        "colab": {
          "base_uri": "https://localhost:8080/"
        },
        "outputId": "bd89561d-316f-4611-f3b3-9cab7a34ead3"
      },
      "source": [
        "#Sistemde yer alan bilgiler:\n",
        "sisKulAdi = \"yonetici\"\n",
        "sisKulSifre = \"bby162\"\n",
        "\n",
        "\n",
        "#Klavyeden girilen bilgiler:\n",
        "girKulAdi = input(\"Kullanıcı Adı: \")\n",
        "girKulSifre = input(\"Şifre: \")\n",
        "\n",
        "#Kontrol\n",
        "\n",
        "\n",
        "#Sonuç\n",
        "print(sisKulAdi == \"yonetici\" and sisKulSifre == \"bby162\")"
      ],
      "execution_count": null,
      "outputs": [
        {
          "output_type": "stream",
          "text": [
            "Kullanıcı Adı: yonetici\n",
            "Şifre: bby162\n",
            "True\n"
          ],
          "name": "stdout"
        }
      ]
    },
    {
      "cell_type": "markdown",
      "metadata": {
        "id": "rd-bsVch9Dxb"
      },
      "source": [
        "## If Cümleciği\n",
        "\"If\" anahtar sözcüğü, verilen ifadenin doğru olup olmadığını kontrol ettikten sonra belirtilen kodu çalıştıran bir koşullu ifade oluşturmak için kullanılır. Python'da kod bloklarının tanımlanması için girinti kullanır."
      ]
    },
    {
      "cell_type": "markdown",
      "metadata": {
        "id": "VujnXgWV-B_u"
      },
      "source": [
        "**Örnek Uygulama**\n",
        "\n",
        "```\n",
        "acikKavramlar = [\"bilim\", \"erişim\", \"veri\", \"eğitim\"]\n",
        "kavram = input(\"Bir açık kavramı yazın: \")\n",
        "if kavram in acikKavramlar:\n",
        "  print(kavram + \" açık kavramlar listesinde yer alıyor!\")\n",
        "```\n",
        "\n"
      ]
    },
    {
      "cell_type": "code",
      "metadata": {
        "id": "EERabauFbSBB",
        "colab": {
          "base_uri": "https://localhost:8080/"
        },
        "outputId": "7430ed3c-befa-4cba-ead1-02cb783a3052"
      },
      "source": [
        "# Örnek uygulamayı çalıştır\n",
        "\n",
        "acikKavramlar = [\"bilim\", \"erişim\", \"veri\", \"eğitim\"]\n",
        "kavram = input(\"Bir açık kavramı yazın: \")\n",
        "if kavram in acikKavramlar:\n",
        "  print(kavram + \" açık kavramlar listesinde yer alıyor!\")"
      ],
      "execution_count": null,
      "outputs": [
        {
          "output_type": "stream",
          "text": [
            "Bir açık kavramı yazın: bilim\n",
            "bilim açık kavramlar listesinde yer alıyor!\n"
          ],
          "name": "stdout"
        }
      ]
    },
    {
      "cell_type": "markdown",
      "metadata": {
        "id": "mwAnF_eiHj-g"
      },
      "source": [
        "**Görev:** \"acikSozluk\" içinde yer alan anahtarları (keys) kullanarak eğer klavyeden girilen anahtar kelime sözlükte varsa açıklamasını ekrana yazdırın!"
      ]
    },
    {
      "cell_type": "code",
      "metadata": {
        "id": "-Knt3IBI_BRm",
        "colab": {
          "base_uri": "https://localhost:8080/"
        },
        "outputId": "30cac7ae-ac2d-4d7d-ceb4-a007e0880c88"
      },
      "source": [
        "acikSozluk = {\n",
        "    \"Açık Bilim\" : \"Bilimsel bilgi kamu malıdır. Bilimsel yayınlara ve verilere açık erişim bir haktır.\" ,\n",
        "    \"Açık Erişim\" : \"Kamu kaynakları ile yapılan araştırmalar sonucunda üretilen yayınlara ücretsiz erişim\" ,\n",
        "    \"Açık Veri\" : \"Kamu kaynakları ile yapılan araştırma sonucunda üretilen verilere ücretsiz ve yeniden kullanılabilir biçimde erişim\" \n",
        "    }\n",
        "anahtar = input(\"Anahtar Kelime: \")\n",
        "if anahtar in acikSozluk:\n",
        "  print(acikSozluk[\"Açık Veri\"])\n",
        " \n",
        "\n",
        "#If"
      ],
      "execution_count": null,
      "outputs": [
        {
          "output_type": "stream",
          "text": [
            "Anahtar Kelime: Açık Veri\n",
            "Kamu kaynakları ile yapılan araştırma sonucunda üretilen verilere ücretsiz ve yeniden kullanılabilir biçimde erişim\n"
          ],
          "name": "stdout"
        }
      ]
    },
    {
      "cell_type": "markdown",
      "metadata": {
        "id": "gBj0pSOoLvWu"
      },
      "source": [
        "## Else ve Elif Kullanımı\n",
        "\"If\" cümleciği içinde ikinci bir ifadenin doğruluğunun kontrolü için \"Elif\" ifadesi kullanılır. Doğruluğu sorgulanan ifadelerden hiçbiri *True* döndürmediği zaman çalışacak olan kod bloğu \"Else\" altında yer alan kod bloğudur. "
      ]
    },
    {
      "cell_type": "markdown",
      "metadata": {
        "id": "k-jKSvQcMeu6"
      },
      "source": [
        "**Örnek Uygulama**\n",
        "\n",
        "```\n",
        "gunler = [\"Pazartesi\", \"Çarşamba\", \"Cuma\"]\n",
        "girilen = input(\"Gün giriniz: \")\n",
        "if girilen == gunler[0]:\n",
        "  print(\"Programlama Dilleri\")\n",
        "elif girilen == gunler[1]:\n",
        "  print(\"Kataloglama\")\n",
        "elif girilen == gunler[2]:\n",
        "  print(\"Bilimsel İletişim\")\n",
        "else :\n",
        "  print(\"Kayıtlı bir gün bilgisi girmediniz!\")\n",
        "```\n",
        "\n"
      ]
    },
    {
      "cell_type": "code",
      "metadata": {
        "id": "hVT2r9_tbnis",
        "colab": {
          "base_uri": "https://localhost:8080/"
        },
        "outputId": "c3c28cc7-552b-4a8b-fd7a-32a85b660cf3"
      },
      "source": [
        "# Örnek uygulamayı çalıştır\n",
        "\n",
        "gunler = [\"Pazartesi\", \"Çarşamba\", \"Cuma\"]\n",
        "girilen = input(\"Gün giriniz: \")\n",
        "if girilen == gunler[0]:\n",
        "  print(\"Programlama Dilleri\")\n",
        "elif girilen == gunler[1]:\n",
        "  print(\"Kataloglama\")\n",
        "elif girilen == gunler[2]:\n",
        "  print(\"Bilimsel İletişim\")\n",
        "else :\n",
        "  print(\"Kayıtlı bir gün bilgisi girmediniz!\")"
      ],
      "execution_count": null,
      "outputs": [
        {
          "output_type": "stream",
          "text": [
            "Gün giriniz: Perşembe\n",
            "Kayıtlı bir gün bilgisi girmediniz!\n"
          ],
          "name": "stdout"
        }
      ]
    },
    {
      "cell_type": "markdown",
      "metadata": {
        "id": "5JzZRGxWr3Sm"
      },
      "source": [
        "**Görev:** Klavyeden girilen yaş bilgisini kullanarak ekrana aşağıdaki mesajları yazdır:\n",
        "\n",
        "*   21 yaş altı ve 64 yaş üstü kişilere: \"Sokağa çıkma yasağı bulunmaktadır!\"\n",
        "*   Diğer tüm kişilere: \"Sokağa çıkma yasağı yoktur!\"\n",
        "*   Klavyeden yaş harici bir bilgi girişi yapıldığında: \"Yaşınızı rakam olarak giriniz!\""
      ]
    },
    {
      "cell_type": "code",
      "metadata": {
        "id": "vEFr1ub_thtK",
        "colab": {
          "base_uri": "https://localhost:8080/"
        },
        "outputId": "3eff1346-7622-408b-9212-528146a79b43"
      },
      "source": [
        "yas = input(\"yasınızı girin\")\n",
        "yas = int(yas)\n",
        "if (yas < 21 or yas > 64):\n",
        "  print(\"sokağa çıkma yasağı var\")\n",
        "else:\n",
        "  print(\"sokağa çıkma yasağı yok\")\n",
        "\n",
        "\n",
        "\n",
        "\n"
      ],
      "execution_count": null,
      "outputs": [
        {
          "output_type": "stream",
          "text": [
            "yasınızı girin22\n",
            "sokağa çıkma yasağı yok\n"
          ],
          "name": "stdout"
        }
      ]
    },
    {
      "cell_type": "markdown",
      "metadata": {
        "id": "mLq4XzRPHdHl"
      },
      "source": [
        "# Bölüm 06: Döngüler\n",
        "\n",
        "Bu bölümde:\n",
        "\n",
        "*   for döngüsü,\n",
        "*   Metin katarlarında for döngüsü kullanımı,\n",
        "*   while döngüsü,\n",
        "*   break anahtar kelimesi,\n",
        "*   continue anahtar kelimesi yer almaktadır.\n",
        "\n"
      ]
    },
    {
      "cell_type": "markdown",
      "metadata": {
        "id": "yuku4yibHvy5"
      },
      "source": [
        "## for Döngüsü\n",
        "for döngüleri belirli komut satırını ya da satırlarını yinelemek (tekrar etmek) için kullanılır. Her yinelemede, for döngüsünde tanımlanan değişken listedeki bir sonraki değere otomatik olarak atanacaktır."
      ]
    },
    {
      "cell_type": "markdown",
      "metadata": {
        "id": "JjwFU3rcIfzO"
      },
      "source": [
        "**Örnek Uygulama**\n",
        "\n",
        "```\n",
        "for i in range(5):  # i değerine 0-4 arası indeks değerleri otomatik olarak atanır\n",
        "    print(i)  # Çıktı: Bu komut satırı toplam 5 kere tekrarlanır ve her satırda yeni i değeri yazdırılır\n",
        "\n",
        "\n",
        "konular = [\"Açık Bilim\", \"Açık Erişim\", \"Açık Veri\"]   # yeni bir liste oluşturur\n",
        "\n",
        "for konu in konular:\n",
        "    print(konu) #Çıktı: Her bir liste öğesi alt alta satırlara yazdırılır\n",
        "\n",
        "```\n",
        "\n"
      ]
    },
    {
      "cell_type": "code",
      "metadata": {
        "id": "ZIm4g511cyvz",
        "colab": {
          "base_uri": "https://localhost:8080/"
        },
        "outputId": "20ea7b42-a250-4890-9058-8be6c1daa8d2"
      },
      "source": [
        "# Örnek uygulmayı çalıştır\n",
        "\n",
        "for i in range(5):\n",
        "    print(i)"
      ],
      "execution_count": 1,
      "outputs": [
        {
          "output_type": "stream",
          "text": [
            "0\n",
            "1\n",
            "2\n",
            "3\n",
            "4\n"
          ],
          "name": "stdout"
        }
      ]
    },
    {
      "cell_type": "code",
      "metadata": {
        "id": "Uikl2CnDc8rE",
        "colab": {
          "base_uri": "https://localhost:8080/"
        },
        "outputId": "f286db87-72cc-44f4-fb79-76900acdc5b9"
      },
      "source": [
        "# Örnek uygulmayı çalıştır\n",
        "\n",
        "konular = [\"Açık Bilim\", \"Açık Erişim\", \"Açık Veri\"]\n",
        "\n",
        "for konu in konular:\n",
        "    print(konu)"
      ],
      "execution_count": 2,
      "outputs": [
        {
          "output_type": "stream",
          "text": [
            "Açık Bilim\n",
            "Açık Erişim\n",
            "Açık Veri\n"
          ],
          "name": "stdout"
        }
      ]
    },
    {
      "cell_type": "markdown",
      "metadata": {
        "id": "cbpRcW1aKFYu"
      },
      "source": [
        "**Görev:** Bir liste oluşturun. Liste öğelerini \"for\" döngüsü kullanarak ekrana yazdırın!"
      ]
    },
    {
      "cell_type": "code",
      "metadata": {
        "id": "ry1L7GJ_J_wZ",
        "colab": {
          "base_uri": "https://localhost:8080/"
        },
        "outputId": "29ec6367-f7bb-4b89-aa7a-67acf9b87c8c"
      },
      "source": [
        "#liste\n",
        "iller = [\"izmir\",\"Adana\",\"Ankara\"]\n",
        "for il in iller:\n",
        "  print(il)\n"
      ],
      "execution_count": 3,
      "outputs": [
        {
          "output_type": "stream",
          "text": [
            "izmir\n",
            "Adana\n",
            "Ankara\n"
          ],
          "name": "stdout"
        }
      ]
    },
    {
      "cell_type": "markdown",
      "metadata": {
        "id": "rHicjY1WKk5o"
      },
      "source": [
        "## Metin Katarlarında for Döngüsü Kullanımı\n",
        "Metin Katarları üzerinde gerçekleştirilebilecek işlemler Python'daki listelerle büyük benzerlik taşırlar. Metin Katarını oluşturan öğeler (harfler) liste elemanları gibi \"for\" döngüsü yardımıyla ekrana yazdırılabilir. "
      ]
    },
    {
      "cell_type": "markdown",
      "metadata": {
        "id": "UlkXx7vOLdhn"
      },
      "source": [
        "**Örnek Uygulama**\n",
        "\n",
        "```\n",
        "cumle = \"Bisiklet hem zihni hem bedeni dinç tutar!\"\n",
        "\n",
        "for harf in cumle:    # Cümledeki her bir harfi ekrana satır satır yazdırır\n",
        "    print(harf)\n",
        "```\n",
        "\n"
      ]
    },
    {
      "cell_type": "code",
      "metadata": {
        "id": "VLDA2SWAdUHz",
        "colab": {
          "base_uri": "https://localhost:8080/"
        },
        "outputId": "2c5dc603-9a62-47ef-f308-efb0a001ee9b"
      },
      "source": [
        "# Örnek uygulamayı çalıştır\n",
        "\n",
        "cumle = \"Bisiklet hem zihni, hem bedeni dinç tutar!\"\n",
        " \n",
        "for harf in cumle:\n",
        "    print(harf)"
      ],
      "execution_count": 4,
      "outputs": [
        {
          "output_type": "stream",
          "text": [
            "B\n",
            "i\n",
            "s\n",
            "i\n",
            "k\n",
            "l\n",
            "e\n",
            "t\n",
            " \n",
            "h\n",
            "e\n",
            "m\n",
            " \n",
            "z\n",
            "i\n",
            "h\n",
            "n\n",
            "i\n",
            ",\n",
            " \n",
            "h\n",
            "e\n",
            "m\n",
            " \n",
            "b\n",
            "e\n",
            "d\n",
            "e\n",
            "n\n",
            "i\n",
            " \n",
            "d\n",
            "i\n",
            "n\n",
            "ç\n",
            " \n",
            "t\n",
            "u\n",
            "t\n",
            "a\n",
            "r\n",
            "!\n"
          ],
          "name": "stdout"
        }
      ]
    },
    {
      "cell_type": "markdown",
      "metadata": {
        "id": "y_7DFSavMJO4"
      },
      "source": [
        "**Görev:** İçinde metin katarı bulunan bir değişken oluşturun. Bu değişkende yer alan her bir harfi bir satıra gelecek şekilde \"for\" döngüsü ile ekrana yazdırın!"
      ]
    },
    {
      "cell_type": "code",
      "metadata": {
        "id": "83a-E21mMEUr",
        "colab": {
          "base_uri": "https://localhost:8080/"
        },
        "outputId": "4de0117b-17a2-4bce-855a-1612cd7e71c1"
      },
      "source": [
        "#degiskenler\n",
        "konu = \"Koşu yapmak sağlığa faydalıdır\"\n",
        "for harf in konu:\n",
        "  print(harf)\n"
      ],
      "execution_count": 5,
      "outputs": [
        {
          "output_type": "stream",
          "text": [
            "K\n",
            "o\n",
            "ş\n",
            "u\n",
            " \n",
            "y\n",
            "a\n",
            "p\n",
            "m\n",
            "a\n",
            "k\n",
            " \n",
            "s\n",
            "a\n",
            "ğ\n",
            "l\n",
            "ı\n",
            "ğ\n",
            "a\n",
            " \n",
            "f\n",
            "a\n",
            "y\n",
            "d\n",
            "a\n",
            "l\n",
            "ı\n",
            "d\n",
            "ı\n",
            "r\n"
          ],
          "name": "stdout"
        }
      ]
    },
    {
      "cell_type": "markdown",
      "metadata": {
        "id": "mSp_IsCyM7Ed"
      },
      "source": [
        "## while Döngüsü\n",
        "\"While\" döngüsü \"if\" cümleciğinin ifade şekline benzer. Koşul doğruysa döngüye bağlı kod satırı ya da satırları yürütülür (çalıştırılır). Temel fark, koşul doğru (True) olduğu olduğu sürece bağlı kod satırı ya da satırları çalışmaya devam eder."
      ]
    },
    {
      "cell_type": "markdown",
      "metadata": {
        "id": "O0pVXw8jOGjc"
      },
      "source": [
        "**Örnek Uygulama**\n",
        "\n",
        "```\n",
        "deger = 1\n",
        "\n",
        "while deger <= 10:\n",
        "    print(deger)    # Bu satır 10 kez tekrarlanacak\n",
        "    deger += 1      # Bu satır da 10 kez tekrarlanacak\n",
        "\n",
        "print(\"Program bitti\")  # Bu satır sadece bir kez çalıştırılacak\n",
        "```\n",
        "\n"
      ]
    },
    {
      "cell_type": "code",
      "metadata": {
        "id": "GTRNt3f4dxaZ",
        "colab": {
          "base_uri": "https://localhost:8080/"
        },
        "outputId": "bb998719-5a7c-480a-8e89-9e610933324f"
      },
      "source": [
        "# Örnek uygulamayı çalıştır\n",
        "\n",
        "deger = 1\n",
        "\n",
        "while deger <= 10:\n",
        "    print(deger)\n",
        "    deger += 1\n",
        "    \n",
        "print(\"Program bitti\")"
      ],
      "execution_count": 6,
      "outputs": [
        {
          "output_type": "stream",
          "text": [
            "1\n",
            "2\n",
            "3\n",
            "4\n",
            "5\n",
            "6\n",
            "7\n",
            "8\n",
            "9\n",
            "10\n",
            "Program bitti\n"
          ],
          "name": "stdout"
        }
      ]
    },
    {
      "cell_type": "markdown",
      "metadata": {
        "id": "CBGdLeJbSEev"
      },
      "source": [
        "## break Anahtar Kelimesi\n",
        "Asla bitmeyen döngüye sonsuz döngü adı verilir. Döngü koşulu daima doğru (True) olursa, böyle bir döngü sonsuz olur. \"Break\" anahtar kelimesi geçerli döngüden çıkmak için kullanılır."
      ]
    },
    {
      "cell_type": "markdown",
      "metadata": {
        "id": "ihLhjXWcSnv8"
      },
      "source": [
        "**Örnek Uygulama**\n",
        "\n",
        "```\n",
        "sayi = 0\n",
        "\n",
        "while True:  # bu döngü sonsuz bir döngüdür\n",
        "    print(sayi)\n",
        "    sayi += 1\n",
        "    if sayi >= 5:\n",
        "        break   # sayı değeri 5 olduğunda döngü otomatik olarak sonlanır\n",
        "```\n",
        "\n"
      ]
    },
    {
      "cell_type": "code",
      "metadata": {
        "id": "xXDmHHe2TVLJ",
        "colab": {
          "base_uri": "https://localhost:8080/"
        },
        "outputId": "293d48f8-6070-44b0-de2b-8af60ccfde6c"
      },
      "source": [
        "# Örnek Uygulamayı çalıştır\n",
        "\n",
        "sayi = 0\n",
        "\n",
        "while True:\n",
        "    print(sayi)\n",
        "    sayi += 1\n",
        "    if sayi >= 5:\n",
        "        break"
      ],
      "execution_count": 7,
      "outputs": [
        {
          "output_type": "stream",
          "text": [
            "0\n",
            "1\n",
            "2\n",
            "3\n",
            "4\n"
          ],
          "name": "stdout"
        }
      ]
    },
    {
      "cell_type": "markdown",
      "metadata": {
        "id": "ySFedvaOTqjR"
      },
      "source": [
        "## continue Anahtar Kelimesi\n",
        "\"continue\" anahtar kelimesi, o anda yürütülen döngü için döngü içindeki kodun geri kalanını atlamak ve \"for\" veya \"while\" deyimine geri dönmek için kullanılır."
      ]
    },
    {
      "cell_type": "markdown",
      "metadata": {
        "id": "Ge8XX1mbT0Me"
      },
      "source": [
        "\n",
        "\n",
        "```\n",
        "for i in range(5):\n",
        "    if i == 3:\n",
        "        continue   # i değeri 3 olduğu anda altta yer alan \"print\" komutu atlanıyor.\n",
        "    print(i)\n",
        "```\n",
        "\n"
      ]
    },
    {
      "cell_type": "code",
      "metadata": {
        "id": "8kRu3DpFT4pe",
        "colab": {
          "base_uri": "https://localhost:8080/"
        },
        "outputId": "e8a33225-014c-441f-b8c7-96d9bee0abb1"
      },
      "source": [
        "# Örnek Uygulamayı çalıştır\n",
        "\n",
        "for i in range(5):\n",
        "    if i == 3:\n",
        "        continue\n",
        "    print(i)"
      ],
      "execution_count": 8,
      "outputs": [
        {
          "output_type": "stream",
          "text": [
            "0\n",
            "1\n",
            "2\n",
            "4\n"
          ],
          "name": "stdout"
        }
      ]
    },
    {
      "cell_type": "markdown",
      "metadata": {
        "id": "bvvGF4PTO3MX"
      },
      "source": [
        "**Görev: Tahmin Oyunu**\n",
        "\n",
        "\"while\" döngüsü kullanarak bir tahmin oyunu tasarla. Bu tahmin oyununda, önceden belirlenmiş olan kelime ile klavyeden girilen kelime karşılaştırılmalı, tahmin doğru ise oyun \"Bildiniz..!\" mesajı ile sonlanmalı, yanlış ise tahmin hakkı bir daha verilmeli."
      ]
    },
    {
      "cell_type": "code",
      "metadata": {
        "id": "aPxS3byjrjEN",
        "colab": {
          "base_uri": "https://localhost:8080/"
        },
        "outputId": "22a03027-760e-4b77-e9c6-d295cc127bab"
      },
      "source": [
        "#Tahmin Oyunu\n",
        "kelime = \"bilgi\"\n",
        "tahmin = \"\"\n",
        "tahmin = input(\"tahmininizi yazınız\")\n",
        "while tahmin:\n",
        " if tahmin in kelime:\n",
        "  print(\"bildiniz\")\n",
        " else:\n",
        "  print(\"bir hakkınız daha var\")\n",
        " break\n",
        "\n",
        "\n",
        "\n"
      ],
      "execution_count": 54,
      "outputs": [
        {
          "output_type": "stream",
          "text": [
            "tahmininizi yazınızbilgi\n",
            "bildiniz\n"
          ],
          "name": "stdout"
        }
      ]
    },
    {
      "cell_type": "markdown",
      "metadata": {
        "id": "yWfAoCUc-D9d"
      },
      "source": [
        "# Bölüm 07: Fonksiyonlar"
      ]
    },
    {
      "cell_type": "markdown",
      "metadata": {
        "id": "YJrL9elb-LvL"
      },
      "source": [
        "## Fonksiyon Tanımlama (Definition)\n",
        "Fonksiyonlar, yazılan kodu faydalı bloklara bölmenin, daha okunabilir hale getirmenin ve tekrar kullanmaya yardımcı olmanın kullanışlı bir yoludur. Fonksiyonlar \"def\" anahtar sözcüğü ve ardından fonksiyonun adı kullanılarak tanımlanır."
      ]
    },
    {
      "cell_type": "markdown",
      "metadata": {
        "id": "AY162tKL-6Nd"
      },
      "source": [
        "**Örnek Uygulama**\n",
        "\n",
        "```\n",
        "def merhaba_dunya():  # fonksiyon tanımlama, isimlendirme\n",
        "    print(\"Merhaba Dünya!\") #fonksiyona dahil kod satırları\n",
        "\n",
        "for i in range(5):\n",
        "    merhaba_dunya()   # fonksiyon 5 kere çağırılacak\n",
        "```\n",
        "\n"
      ]
    },
    {
      "cell_type": "code",
      "metadata": {
        "id": "iwMnSTNMevh8",
        "colab": {
          "base_uri": "https://localhost:8080/"
        },
        "outputId": "3bc53521-4493-4468-9222-025d3687e62b"
      },
      "source": [
        "# Örnek uygulamayı çalıştır\n",
        "\n",
        "def merhaba_dunya():  # fonksiyon tanımlama, isimlendirme\n",
        "    print(\"Merhaba Dünya!\") #fonksiyona dahil kod satırları\n",
        "\n",
        "for i in range(5):\n",
        "    merhaba_dunya()   # fonksiyon 5 kere çağırılacak"
      ],
      "execution_count": 55,
      "outputs": [
        {
          "output_type": "stream",
          "text": [
            "Merhaba Dünya!\n",
            "Merhaba Dünya!\n",
            "Merhaba Dünya!\n",
            "Merhaba Dünya!\n",
            "Merhaba Dünya!\n"
          ],
          "name": "stdout"
        }
      ]
    },
    {
      "cell_type": "markdown",
      "metadata": {
        "id": "UnHQO9MR_pII"
      },
      "source": [
        "##Fonksiyolarda Parametre Kullanımı\n",
        "Fonksiyon parametreleri, fonksiyon adından sonra parantez () içinde tanımlanır. Parametre, iletilen bağımsız değişken için değişken adı görevi görür."
      ]
    },
    {
      "cell_type": "markdown",
      "metadata": {
        "id": "IDgYf17j_4fu"
      },
      "source": [
        "**Örnek Uygulama**\n",
        "\n",
        "```\n",
        "def foo(x):    # x bir fonksiyon parametresidir\n",
        "    print(\"x = \" + str(x))\n",
        "\n",
        "foo(5)   # 5 değeri fonksiyona iletilir ve değer olarak kullanılır.\n",
        "```\n",
        "\n"
      ]
    },
    {
      "cell_type": "code",
      "metadata": {
        "id": "i2IW-s8wfB3e",
        "colab": {
          "base_uri": "https://localhost:8080/"
        },
        "outputId": "9f99ff91-1a78-4299-def6-67ac5b68524a"
      },
      "source": [
        "# Örnek uygulamayı çalıştır\n",
        "\n",
        "def foo(x):\n",
        "    print(\"x = \" + str(x))\n",
        "\n",
        "foo(5)"
      ],
      "execution_count": 62,
      "outputs": [
        {
          "output_type": "stream",
          "text": [
            "x = 5\n"
          ],
          "name": "stdout"
        }
      ]
    },
    {
      "cell_type": "markdown",
      "metadata": {
        "id": "53DY9zKcgPHD"
      },
      "source": [
        "**Görev:** *karsila* fonksiyonunun tetiklenmesi için gerekli kod ve parametleri ekle!"
      ]
    },
    {
      "cell_type": "code",
      "metadata": {
        "colab": {
          "base_uri": "https://localhost:8080/"
        },
        "id": "moDDjXMyxcyM",
        "outputId": "c0a3a25b-9efd-490d-b448-1de8ad389803"
      },
      "source": [
        "def karsila(kAd, kSoyad):\n",
        "  print(\"Hoşgeldin, %s %s\" % (kAd, kSoyad))\n",
        "kAd = \"Öykü\"\n",
        "kSoyad = \"Turhan\"\n",
        "\n",
        "karsila(kAd, kSoyad)"
      ],
      "execution_count": 89,
      "outputs": [
        {
          "output_type": "stream",
          "text": [
            "Hoşgeldin, Öykü Turhan\n"
          ],
          "name": "stdout"
        }
      ]
    },
    {
      "cell_type": "markdown",
      "metadata": {
        "id": "LKBMne6BAhid"
      },
      "source": [
        "##Return Değeri\n",
        "Fonksiyonlar, \"return\" anahtar sözcüğünü kullanarak fonksiyon sonucunda bir değer döndürebilir. Döndürülen değer bir değişkene atanabilir veya sadece örneğin değeri yazdırmak için kullanılabilir."
      ]
    },
    {
      "cell_type": "markdown",
      "metadata": {
        "id": "fJuWpMooBV0x"
      },
      "source": [
        "**Örnek Uygulama**\n",
        "\n",
        "```\n",
        "def iki_sayi_topla(a, b):\n",
        "    return a + b    # hesaplama işleminin sonucu değer olarak döndürülüyor\n",
        "\n",
        "print(iki_sayi_topla(3, 12))  # ekrana işlem sonucu yazdırılacak\n",
        "```\n",
        "\n"
      ]
    },
    {
      "cell_type": "code",
      "metadata": {
        "id": "xRukn_KfrsA3",
        "colab": {
          "base_uri": "https://localhost:8080/"
        },
        "outputId": "5e48fa8f-5b78-4e18-ba10-e27261d1d1cd"
      },
      "source": [
        "# Örnek uygulamayı çalıştır\n",
        "\n",
        "def iki_sayi_topla(a, b):\n",
        "    return a + b\n",
        "\n",
        "print(iki_sayi_topla(3, 12))"
      ],
      "execution_count": 1,
      "outputs": [
        {
          "output_type": "stream",
          "text": [
            "15\n"
          ],
          "name": "stdout"
        }
      ]
    },
    {
      "cell_type": "markdown",
      "metadata": {
        "id": "FXXW68lICB7S"
      },
      "source": [
        "##Varsayılan Parametreler\n",
        "Bazen bir veya daha fazla fonksiyon parametresi için varsayılan bir değer belirtmek yararlı olabilir. Bu, ihtiyaç duyulan parametrelerden daha az argümanla çağrılabilen bir fonksiyon oluşturur."
      ]
    },
    {
      "cell_type": "markdown",
      "metadata": {
        "id": "fCHKSZpcCglT"
      },
      "source": [
        "**Örnek Uygulama**\n",
        "\n",
        "```\n",
        "def iki_sayi_carp(a, b=2):\n",
        "    return a * b\n",
        "\n",
        "print(iki_sayi_carp(3, 47)) # verilen iki degeri de kullanır \n",
        "print(iki_sayi_carp(3))    # verilmeyen 2. değer yerine varsayılanı kullanır\n",
        "```\n",
        "\n"
      ]
    },
    {
      "cell_type": "code",
      "metadata": {
        "id": "Gy_5nrP6hHOR",
        "colab": {
          "base_uri": "https://localhost:8080/"
        },
        "outputId": "5205c0f1-2fc7-44ba-8954-8914b47e84dd"
      },
      "source": [
        "# Örnek uygulamayı çalıştır\n",
        "\n",
        "def iki_sayi_carp(a, b=2):\n",
        "    return a * b\n",
        "\n",
        "print(iki_sayi_carp(3, 47))\n",
        "print(iki_sayi_carp(3))"
      ],
      "execution_count": 2,
      "outputs": [
        {
          "output_type": "stream",
          "text": [
            "141\n",
            "6\n"
          ],
          "name": "stdout"
        }
      ]
    },
    {
      "cell_type": "markdown",
      "metadata": {
        "id": "8iTlloLEh59b"
      },
      "source": [
        "**Örnek Uygulama: Sayısal Loto**\n",
        "\n",
        "Aşağıda temel yapısı aynı olan iki *sayısal loto* uygulaması bulunmaktadır: Fonksiyonsuz ve fonksiyonlu.\n",
        "\n",
        "İlk sayısal loto uygulamasında herhangi bir fonksiyon kullanımı yoktur. Her satırda 1-49 arası 6 adet sayının yer aldığı 6 satır oluşturur.\n",
        "\n",
        "İkinci sayısal loto uygulamsında ise *tahminEt* isimli bir fonksiyon yer almaktadır. Bu fonksiyon varsayılan parametrelere sahiptir ve bu parametreler fonksiyon çağırılırken değiştirilebilir. Böylece ilk uygulamadan çok daha geniş seçenekler sunabilir bir hale gelmiştir.\n",
        "\n"
      ]
    },
    {
      "cell_type": "code",
      "metadata": {
        "id": "W4Z_Rgl_hq1t",
        "colab": {
          "base_uri": "https://localhost:8080/"
        },
        "outputId": "2fd21abb-f407-4562-ed55-757b1e18cd22"
      },
      "source": [
        "#Sayısal Loto örnek uygulama (fonksiyonsuz)\n",
        "\n",
        "from random import randint\n",
        "i = 0\n",
        "secilenler = [0,0,0,0,0,0]\n",
        "for rastgele in secilenler:\n",
        "    while i < len(secilenler):\n",
        "        secilen = randint(1, 90)\n",
        "        if secilen not in secilenler:\n",
        "            secilenler[i] = secilen\n",
        "            i+=1\n",
        "    print(sorted(secilenler))\n",
        "    i=0"
      ],
      "execution_count": 6,
      "outputs": [
        {
          "output_type": "stream",
          "text": [
            "[23, 30, 63, 78, 79, 85]\n",
            "[31, 48, 51, 58, 64, 72]\n",
            "[35, 45, 47, 61, 67, 69]\n",
            "[10, 24, 27, 40, 80, 81]\n",
            "[12, 34, 43, 44, 78, 88]\n",
            "[5, 9, 25, 63, 67, 81]\n"
          ],
          "name": "stdout"
        }
      ]
    },
    {
      "cell_type": "code",
      "metadata": {
        "id": "PRtF6Bd_b2Xg",
        "colab": {
          "base_uri": "https://localhost:8080/"
        },
        "outputId": "aaeb89cf-c1fe-412b-ecdc-3aa44915cfc5"
      },
      "source": [
        "#Sayısal Loto örnek uygulama (fonksiyonlu)\n",
        "\n",
        "from random import randint\n",
        "def tahminEt(rakam=6, satir=6, baslangic=1, bitis=45):\n",
        "  i = 0\n",
        "  secilenler = []\n",
        "  for liste in range(rakam):\n",
        "    secilenler.append(0)\n",
        "  for olustur in range(satir):\n",
        "      while i < len(secilenler):\n",
        "          secilen = randint(baslangic, bitis)\n",
        "          if secilen not in secilenler:\n",
        "              secilenler[i] = secilen\n",
        "              i+=1\n",
        "      print(sorted(secilenler))\n",
        "      i=0\n",
        "tahminEt(10,6,1,60)"
      ],
      "execution_count": 8,
      "outputs": [
        {
          "output_type": "stream",
          "text": [
            "[3, 4, 12, 13, 14, 17, 26, 35, 44, 60]\n",
            "[2, 9, 10, 22, 25, 27, 33, 38, 39, 40]\n",
            "[4, 8, 10, 11, 15, 21, 28, 29, 41, 48]\n",
            "[9, 16, 20, 26, 27, 32, 34, 35, 38, 54]\n",
            "[14, 19, 26, 28, 29, 36, 52, 54, 57, 59]\n",
            "[1, 12, 15, 19, 21, 22, 34, 53, 54, 58]\n"
          ],
          "name": "stdout"
        }
      ]
    },
    {
      "cell_type": "markdown",
      "metadata": {
        "id": "lpT_y9p9DB_U"
      },
      "source": [
        "**Görev:** Bu görev genel olarak fonksiyon bölümünü kapsamaktadır.\n",
        "\n",
        "Daha önce yapmış olduğunuz \"Adam Asmaca\" projesini (ya da aşağıda yer alan örneği) fonksiyonlar kullanarak oyun bittiğinde tekrar başlatmaya gerek duyulmadan yeniden oynanabilmesine imkan sağlayacak şekilde yeniden kurgulayın.\n",
        "\n",
        "Oyunun farklı sekansları için farklı fonksiyonlar tanımlayarak oyunu daha optimize hale getirmeye çalışın.\n",
        "\n",
        "Aşağıda bir adam asmaca oyununun temel özellikerine sahip bir örnek yer almaktadır.\n",
        "\n"
      ]
    },
    {
      "cell_type": "code",
      "metadata": {
        "id": "iGDblCXpkeGZ",
        "colab": {
          "base_uri": "https://localhost:8080/",
          "height": 663
        },
        "outputId": "bafd9e41-d3cc-45ad-e86b-6d79be20608d"
      },
      "source": [
        "#Fonksiyonsuz Adam Asmaca\n",
        "\n",
        "from random import choice\n",
        "\n",
        "adamCan = 3\n",
        "\n",
        "kelimeler = [\"bisiklet\", \"triatlon\", \"yüzme\", \"koşu\"]\n",
        "secilenKelime = choice(kelimeler)\n",
        "print(secilenKelime)\n",
        "dizilenKelime = []\n",
        "for diz in secilenKelime:\n",
        "    dizilenKelime.append(\"_\")\n",
        "print(dizilenKelime)\n",
        "\n",
        "while adamCan > 0:\n",
        "    girilenHarf = input(\"Bir harf giriniz: \")\n",
        "    canKontrol = girilenHarf in secilenKelime\n",
        "    if canKontrol == False:\n",
        "        adamCan-=1\n",
        "    i = 0\n",
        "    for kontrol in secilenKelime:\n",
        "        if secilenKelime[i] == girilenHarf:\n",
        "            dizilenKelime[i] = girilenHarf\n",
        "        i+=1\n",
        "    print(dizilenKelime)\n",
        "    print(\"Kalan can: \"+ str(adamCan))"
      ],
      "execution_count": 9,
      "outputs": [
        {
          "output_type": "stream",
          "text": [
            "bisiklet\n",
            "['_', '_', '_', '_', '_', '_', '_', '_']\n",
            "Bir harf giriniz: c\n",
            "['_', '_', '_', '_', '_', '_', '_', '_']\n",
            "Kalan can: 2\n",
            "Bir harf giriniz: b\n",
            "['b', '_', '_', '_', '_', '_', '_', '_']\n",
            "Kalan can: 2\n"
          ],
          "name": "stdout"
        },
        {
          "output_type": "error",
          "ename": "KeyboardInterrupt",
          "evalue": "ignored",
          "traceback": [
            "\u001b[0;31m---------------------------------------------------------------------------\u001b[0m",
            "\u001b[0;31mKeyboardInterrupt\u001b[0m                         Traceback (most recent call last)",
            "\u001b[0;32m/usr/local/lib/python3.7/dist-packages/ipykernel/kernelbase.py\u001b[0m in \u001b[0;36m_input_request\u001b[0;34m(self, prompt, ident, parent, password)\u001b[0m\n\u001b[1;32m    728\u001b[0m             \u001b[0;32mtry\u001b[0m\u001b[0;34m:\u001b[0m\u001b[0;34m\u001b[0m\u001b[0;34m\u001b[0m\u001b[0m\n\u001b[0;32m--> 729\u001b[0;31m                 \u001b[0mident\u001b[0m\u001b[0;34m,\u001b[0m \u001b[0mreply\u001b[0m \u001b[0;34m=\u001b[0m \u001b[0mself\u001b[0m\u001b[0;34m.\u001b[0m\u001b[0msession\u001b[0m\u001b[0;34m.\u001b[0m\u001b[0mrecv\u001b[0m\u001b[0;34m(\u001b[0m\u001b[0mself\u001b[0m\u001b[0;34m.\u001b[0m\u001b[0mstdin_socket\u001b[0m\u001b[0;34m,\u001b[0m \u001b[0;36m0\u001b[0m\u001b[0;34m)\u001b[0m\u001b[0;34m\u001b[0m\u001b[0;34m\u001b[0m\u001b[0m\n\u001b[0m\u001b[1;32m    730\u001b[0m             \u001b[0;32mexcept\u001b[0m \u001b[0mException\u001b[0m\u001b[0;34m:\u001b[0m\u001b[0;34m\u001b[0m\u001b[0;34m\u001b[0m\u001b[0m\n",
            "\u001b[0;32m/usr/local/lib/python3.7/dist-packages/jupyter_client/session.py\u001b[0m in \u001b[0;36mrecv\u001b[0;34m(self, socket, mode, content, copy)\u001b[0m\n\u001b[1;32m    802\u001b[0m         \u001b[0;32mtry\u001b[0m\u001b[0;34m:\u001b[0m\u001b[0;34m\u001b[0m\u001b[0;34m\u001b[0m\u001b[0m\n\u001b[0;32m--> 803\u001b[0;31m             \u001b[0mmsg_list\u001b[0m \u001b[0;34m=\u001b[0m \u001b[0msocket\u001b[0m\u001b[0;34m.\u001b[0m\u001b[0mrecv_multipart\u001b[0m\u001b[0;34m(\u001b[0m\u001b[0mmode\u001b[0m\u001b[0;34m,\u001b[0m \u001b[0mcopy\u001b[0m\u001b[0;34m=\u001b[0m\u001b[0mcopy\u001b[0m\u001b[0;34m)\u001b[0m\u001b[0;34m\u001b[0m\u001b[0;34m\u001b[0m\u001b[0m\n\u001b[0m\u001b[1;32m    804\u001b[0m         \u001b[0;32mexcept\u001b[0m \u001b[0mzmq\u001b[0m\u001b[0;34m.\u001b[0m\u001b[0mZMQError\u001b[0m \u001b[0;32mas\u001b[0m \u001b[0me\u001b[0m\u001b[0;34m:\u001b[0m\u001b[0;34m\u001b[0m\u001b[0;34m\u001b[0m\u001b[0m\n",
            "\u001b[0;32m/usr/local/lib/python3.7/dist-packages/zmq/sugar/socket.py\u001b[0m in \u001b[0;36mrecv_multipart\u001b[0;34m(self, flags, copy, track)\u001b[0m\n\u001b[1;32m    582\u001b[0m         \"\"\"\n\u001b[0;32m--> 583\u001b[0;31m         \u001b[0mparts\u001b[0m \u001b[0;34m=\u001b[0m \u001b[0;34m[\u001b[0m\u001b[0mself\u001b[0m\u001b[0;34m.\u001b[0m\u001b[0mrecv\u001b[0m\u001b[0;34m(\u001b[0m\u001b[0mflags\u001b[0m\u001b[0;34m,\u001b[0m \u001b[0mcopy\u001b[0m\u001b[0;34m=\u001b[0m\u001b[0mcopy\u001b[0m\u001b[0;34m,\u001b[0m \u001b[0mtrack\u001b[0m\u001b[0;34m=\u001b[0m\u001b[0mtrack\u001b[0m\u001b[0;34m)\u001b[0m\u001b[0;34m]\u001b[0m\u001b[0;34m\u001b[0m\u001b[0;34m\u001b[0m\u001b[0m\n\u001b[0m\u001b[1;32m    584\u001b[0m         \u001b[0;31m# have first part already, only loop while more to receive\u001b[0m\u001b[0;34m\u001b[0m\u001b[0;34m\u001b[0m\u001b[0;34m\u001b[0m\u001b[0m\n",
            "\u001b[0;32mzmq/backend/cython/socket.pyx\u001b[0m in \u001b[0;36mzmq.backend.cython.socket.Socket.recv\u001b[0;34m()\u001b[0m\n",
            "\u001b[0;32mzmq/backend/cython/socket.pyx\u001b[0m in \u001b[0;36mzmq.backend.cython.socket.Socket.recv\u001b[0;34m()\u001b[0m\n",
            "\u001b[0;32mzmq/backend/cython/socket.pyx\u001b[0m in \u001b[0;36mzmq.backend.cython.socket._recv_copy\u001b[0;34m()\u001b[0m\n",
            "\u001b[0;32m/usr/local/lib/python3.7/dist-packages/zmq/backend/cython/checkrc.pxd\u001b[0m in \u001b[0;36mzmq.backend.cython.checkrc._check_rc\u001b[0;34m()\u001b[0m\n",
            "\u001b[0;31mKeyboardInterrupt\u001b[0m: ",
            "\nDuring handling of the above exception, another exception occurred:\n",
            "\u001b[0;31mKeyboardInterrupt\u001b[0m                         Traceback (most recent call last)",
            "\u001b[0;32m<ipython-input-9-b6ff74a3473f>\u001b[0m in \u001b[0;36m<module>\u001b[0;34m()\u001b[0m\n\u001b[1;32m     14\u001b[0m \u001b[0;34m\u001b[0m\u001b[0m\n\u001b[1;32m     15\u001b[0m \u001b[0;32mwhile\u001b[0m \u001b[0madamCan\u001b[0m \u001b[0;34m>\u001b[0m \u001b[0;36m0\u001b[0m\u001b[0;34m:\u001b[0m\u001b[0;34m\u001b[0m\u001b[0;34m\u001b[0m\u001b[0m\n\u001b[0;32m---> 16\u001b[0;31m     \u001b[0mgirilenHarf\u001b[0m \u001b[0;34m=\u001b[0m \u001b[0minput\u001b[0m\u001b[0;34m(\u001b[0m\u001b[0;34m\"Bir harf giriniz: \"\u001b[0m\u001b[0;34m)\u001b[0m\u001b[0;34m\u001b[0m\u001b[0;34m\u001b[0m\u001b[0m\n\u001b[0m\u001b[1;32m     17\u001b[0m     \u001b[0mcanKontrol\u001b[0m \u001b[0;34m=\u001b[0m \u001b[0mgirilenHarf\u001b[0m \u001b[0;32min\u001b[0m \u001b[0msecilenKelime\u001b[0m\u001b[0;34m\u001b[0m\u001b[0;34m\u001b[0m\u001b[0m\n\u001b[1;32m     18\u001b[0m     \u001b[0;32mif\u001b[0m \u001b[0mcanKontrol\u001b[0m \u001b[0;34m==\u001b[0m \u001b[0;32mFalse\u001b[0m\u001b[0;34m:\u001b[0m\u001b[0;34m\u001b[0m\u001b[0;34m\u001b[0m\u001b[0m\n",
            "\u001b[0;32m/usr/local/lib/python3.7/dist-packages/ipykernel/kernelbase.py\u001b[0m in \u001b[0;36mraw_input\u001b[0;34m(self, prompt)\u001b[0m\n\u001b[1;32m    702\u001b[0m             \u001b[0mself\u001b[0m\u001b[0;34m.\u001b[0m\u001b[0m_parent_ident\u001b[0m\u001b[0;34m,\u001b[0m\u001b[0;34m\u001b[0m\u001b[0;34m\u001b[0m\u001b[0m\n\u001b[1;32m    703\u001b[0m             \u001b[0mself\u001b[0m\u001b[0;34m.\u001b[0m\u001b[0m_parent_header\u001b[0m\u001b[0;34m,\u001b[0m\u001b[0;34m\u001b[0m\u001b[0;34m\u001b[0m\u001b[0m\n\u001b[0;32m--> 704\u001b[0;31m             \u001b[0mpassword\u001b[0m\u001b[0;34m=\u001b[0m\u001b[0;32mFalse\u001b[0m\u001b[0;34m,\u001b[0m\u001b[0;34m\u001b[0m\u001b[0;34m\u001b[0m\u001b[0m\n\u001b[0m\u001b[1;32m    705\u001b[0m         )\n\u001b[1;32m    706\u001b[0m \u001b[0;34m\u001b[0m\u001b[0m\n",
            "\u001b[0;32m/usr/local/lib/python3.7/dist-packages/ipykernel/kernelbase.py\u001b[0m in \u001b[0;36m_input_request\u001b[0;34m(self, prompt, ident, parent, password)\u001b[0m\n\u001b[1;32m    732\u001b[0m             \u001b[0;32mexcept\u001b[0m \u001b[0mKeyboardInterrupt\u001b[0m\u001b[0;34m:\u001b[0m\u001b[0;34m\u001b[0m\u001b[0;34m\u001b[0m\u001b[0m\n\u001b[1;32m    733\u001b[0m                 \u001b[0;31m# re-raise KeyboardInterrupt, to truncate traceback\u001b[0m\u001b[0;34m\u001b[0m\u001b[0;34m\u001b[0m\u001b[0;34m\u001b[0m\u001b[0m\n\u001b[0;32m--> 734\u001b[0;31m                 \u001b[0;32mraise\u001b[0m \u001b[0mKeyboardInterrupt\u001b[0m\u001b[0;34m\u001b[0m\u001b[0;34m\u001b[0m\u001b[0m\n\u001b[0m\u001b[1;32m    735\u001b[0m             \u001b[0;32melse\u001b[0m\u001b[0;34m:\u001b[0m\u001b[0;34m\u001b[0m\u001b[0;34m\u001b[0m\u001b[0m\n\u001b[1;32m    736\u001b[0m                 \u001b[0;32mbreak\u001b[0m\u001b[0;34m\u001b[0m\u001b[0;34m\u001b[0m\u001b[0m\n",
            "\u001b[0;31mKeyboardInterrupt\u001b[0m: "
          ]
        }
      ]
    },
    {
      "cell_type": "code",
      "metadata": {
        "id": "JfxS1H8rEKuR"
      },
      "source": [
        "#Fonksiyonlu Adam Asmaca\n"
      ],
      "execution_count": null,
      "outputs": []
    },
    {
      "cell_type": "markdown",
      "metadata": {
        "id": "Uocer9uZoa_6"
      },
      "source": [
        "# Bölüm 08: Sınıflar ve Nesneler\n",
        "\n",
        "Bu bölümde:\n",
        "\n",
        "*   Sınıf ve nesne tanımlama,\n",
        "*   Değişkenlere erişim,\n",
        "*   self parametresi,\n",
        "*   init metodu yer almaktadır."
      ]
    },
    {
      "cell_type": "markdown",
      "metadata": {
        "id": "nSklAub4oh9p"
      },
      "source": [
        "## Sınıf ve Nesne Tanımlama\n",
        "Bir nesne değişkenleri ve fonksiyonları tek bir varlıkta birleştirir. Nesneler değişkenlerini ve fonksiyonlarını sınıflardan alır. Sınıflar bir anlamda nesnelerinizi oluşturmak için kullanılan şablonlardır. Bir nesneyi, fonksiyonların yanı sıra veri içeren tek bir veri yapısı olarak düşünebilirsiniz. Nesnelerin fonksiyonlarına yöntem (metod) denir.\n",
        "\n",
        "**İpucu:** Sınıf isimlerinin baş harfi büyük yazılarak Python içindeki diğer öğelerden (değişken, fonksiyon vb.) daha rahat ayırt edilmeleri sağlanır."
      ]
    },
    {
      "cell_type": "markdown",
      "metadata": {
        "id": "ShzCIh8VpgM0"
      },
      "source": [
        "**Örnek Uygulama**\n",
        "\n",
        "\n",
        "```\n",
        "class BenimSinifim: # yeni bir sınıfın tanımlanması\n",
        "    \n",
        "    bsDegisken = 4  # sınıf içinde yer alan bir değişken\n",
        "\n",
        "    def bsFonksiyon(self): #sınıf içinde yer alan bir fonksiyon\n",
        "        print(\"Benim sınıfımın fonksiyonundan Merhaba!\")\n",
        "\n",
        "benimNesnem = BenimSinifim()\n",
        "```\n",
        "\n"
      ]
    },
    {
      "cell_type": "markdown",
      "metadata": {
        "id": "5NwBvq6S0r4v"
      },
      "source": [
        "##Değişkenlere ve Fonksiyonlara Erişim\n",
        "Sınıftan örneklenen bir nesnenin içindeki bir değişkene ya da fonksiyona erişmek için öncelikle nesnenin adı daha sonra ise değişkenin ya da fonkiyonun adı çağırılmalıdır (Ör: nesneAdi.degiskenAdi). Bir sınıfın farklı örnekleri (nesneleri) içinde tanımlanan değişkenlerin değerleri değiştirebilir."
      ]
    },
    {
      "cell_type": "markdown",
      "metadata": {
        "id": "NAcj1XjQn89D"
      },
      "source": [
        "**Örnek Uygulama 1**\n",
        "\n",
        "\n",
        "```\n",
        "class BenimSinifim:   # yeni bir sınıf oluşturur\n",
        "    bsDegisken = 3    # sınıfın içinde bir değişken tanımlar\n",
        "    def bsFonksiyon(self):  #sınıfın içinde bir fonksiyon tanımlar\n",
        "        print(\"Benim sınıfımın fonksiyonundan Merhaba!\")\n",
        "\n",
        "benimNesnem = BenimSinifim()  #sınıftan yeni bir nesne oluşturur\n",
        "\n",
        "for i in range(benimNesnem.bsDegisken):  #  oluşturulan nesne üzerinden değişkene ve fonksiyona ulaşılır\n",
        "  benimNesnem.bsFonksiyon()\n",
        "\n",
        "benimNesnem.bsDegisken = 5  #  sınıfın içinde tanımlanan değişkene yeni değer atanması\n",
        "\n",
        "for i in range(benimNesnem.bsDegisken):\n",
        "  benimNesnem.bsFonksiyon()\n",
        "```\n",
        "\n"
      ]
    },
    {
      "cell_type": "code",
      "metadata": {
        "id": "LpNM7SptoLK-"
      },
      "source": [
        "# Örnek uygulama 1'i gözlemleyelim\n",
        "\n",
        "class BenimSinifim:   \n",
        "    bsDegisken = 3\n",
        "    def bsFonksiyon(self):\n",
        "        print(\"Benim sınıfımın fonksiyonundan Merhaba!\")\n",
        "\n",
        "benimNesnem = BenimSinifim()\n",
        "\n",
        "for i in range(benimNesnem.bsDegisken):\n",
        "  benimNesnem.bsFonksiyon()\n",
        "\n",
        "benimNesnem.bsDegisken = 5\n",
        "\n",
        "for i in range(benimNesnem.bsDegisken):\n",
        "  benimNesnem.bsFonksiyon()"
      ],
      "execution_count": null,
      "outputs": []
    },
    {
      "cell_type": "markdown",
      "metadata": {
        "id": "E0v9sloQ22oP"
      },
      "source": [
        "**Örnek Uygulama 2**\n",
        "\n",
        "\n",
        "```\n",
        "class Bisiklet:\n",
        "    renk = \"Kırmızı\"\n",
        "    vites = 1\n",
        "    def ozellikler(self):\n",
        "        ozellikDetay = \"Bu bisiklet %s renkli ve %d viteslidir.\" % (self.renk, self.vites)\n",
        "        return ozellikDetay\n",
        "\n",
        "bisiklet1 = Bisiklet()\n",
        "bisiklet2 = Bisiklet()\n",
        "\n",
        "print(\"Bisiklet 1: \" + bisiklet1.ozellikler())\n",
        "\n",
        "bisiklet2.renk = \"Sarı\"\n",
        "bisiklet2.vites = 22\n",
        "\n",
        "print(\"Bisiklet 2: \" + bisiklet2.ozellikler())\n",
        "```\n",
        "\n"
      ]
    },
    {
      "cell_type": "code",
      "metadata": {
        "id": "RPIbXyYvrTlk"
      },
      "source": [
        "# Örnek uygulama 2'i gözlemleyelim\n",
        "\n",
        "class Bisiklet:\n",
        "    renk = \"Kırmızı\"\n",
        "    vites = 1\n",
        "    def ozellikler(self):\n",
        "        ozellikDetay = \"Bu bisiklet %s renkli ve %d viteslidir.\" % (self.renk, self.vites)\n",
        "        return ozellikDetay\n",
        "\n",
        "bisiklet1 = Bisiklet()\n",
        "bisiklet2 = Bisiklet()\n",
        "\n",
        "print(\"Bisiklet 1: \" + bisiklet1.ozellikler())\n",
        "\n",
        "bisiklet2.renk = \"Sarı\"\n",
        "bisiklet2.vites = 22\n",
        "\n",
        "print(\"Bisiklet 2: \" + bisiklet2.ozellikler())"
      ],
      "execution_count": null,
      "outputs": []
    },
    {
      "cell_type": "markdown",
      "metadata": {
        "id": "o8f-zk-y3KvD"
      },
      "source": [
        "##self Parametresi\n",
        "\"self\" parametresi bir Python kuralıdır. \"self\", herhangi bir sınıf yöntemine iletilen ilk parametredir. Python, oluşturulan nesneyi belirtmek için self parametresini kullanır."
      ]
    },
    {
      "cell_type": "markdown",
      "metadata": {
        "id": "ZoxlmJep4C6j"
      },
      "source": [
        "**Örnek Uygulama**\n",
        "\n",
        "Aşağıdaki örnek uygulamada **Bisiklet** sınıfının değişkenleri olan *renk* ve *bisiklet*, sınıf içindeki fonksiyonda **self** parametresi ile birlikte kullanılmaktadır. Bu kullanım şekli sınıftan oluşturulan nesnelerin tanımlanmış değişkenlere ulaşabilmeleri için gereklidir.\n",
        "```\n",
        "class Bisiklet:\n",
        "    renk = \"Kırmızı\"\n",
        "    vites = 1\n",
        "    def ozellikler(self):\n",
        "        ozellikDetay = \"Bu bisiklet %s renkli ve %d viteslidir.\" % (self.renk, self.vites)\n",
        "        return ozellikDetay\n",
        "```\n",
        "\n"
      ]
    },
    {
      "cell_type": "code",
      "metadata": {
        "id": "2gqeiPB9ys1l"
      },
      "source": [
        "# Örnek uygulamada \"self\" tanımlaması yapılmadığı zaman döndürülen hata kodunu inceleyin\n",
        "\n",
        "class Bisiklet:\n",
        "    renk = \"Kırmızı\"\n",
        "    vites = 1\n",
        "    def ozellikler(self):\n",
        "        ozellikDetay = \"Bu bisiklet %s renkli ve %d viteslidir.\" % (renk, vites) #tanımlama eksik\n",
        "        return ozellikDetay\n",
        "\n",
        "bisiklet1 = Bisiklet()\n",
        "bisiklet2 = Bisiklet()\n",
        "\n",
        "print(\"Bisiklet 1: \" + bisiklet1.ozellikler())\n",
        "\n",
        "bisiklet2.renk = \"Sarı\"\n",
        "bisiklet2.vites = 22\n",
        "\n",
        "print(\"Bisiklet 2: \" + bisiklet2.ozellikler())"
      ],
      "execution_count": null,
      "outputs": []
    },
    {
      "cell_type": "markdown",
      "metadata": {
        "id": "1B4iU-FI4wRy"
      },
      "source": [
        "##__init__ Metodu\n",
        "__init__ fonksiyonu, oluşturduğu nesneleri başlatmak için kullanılır. init \"başlat\" ın kısaltmasıdır. __init__() her zaman yaratılan nesneye atıfta bulunan en az bir argüman alır: \"self\".\n"
      ]
    },
    {
      "cell_type": "markdown",
      "metadata": {
        "id": "FMtmqmiD44ZH"
      },
      "source": [
        "**Örnek Uygulama**\n",
        "\n",
        "Aşağıdaki örnek uygulamada *sporDali* sınıfının içinde tanımlanan **init** fonksiyonu, sınıf oluşturulduğu anda çalışmaya başlamaktadır. Fonksiyonun ayrıca çağırılmasına gerek kalmamıştır.\n",
        "```\n",
        "class sporDali:\n",
        "  sporlar = [\"Yüzme\", \"Bisiklet\", \"Koşu\"]\n",
        "  def __init__(self):\n",
        "    for spor in self.sporlar:\n",
        "      print(spor + \" bir triatlon branşıdır.\")\n",
        "\n",
        "triatlon = sporDali()\n",
        "```\n",
        "\n"
      ]
    },
    {
      "cell_type": "code",
      "metadata": {
        "id": "5zwuicQu0wm7"
      },
      "source": [
        "# Örnek uygulamayı çalıştır\n",
        "\n",
        "class sporDali:\n",
        "  sporlar = [\"Yüzme\", \"Bisiklet\", \"Koşu\"]\n",
        "  def __init__(self):\n",
        "    for spor in self.sporlar:\n",
        "      print(spor + \" bir triatlon branşıdır.\")\n",
        "\n",
        "triatlon = sporDali()"
      ],
      "execution_count": null,
      "outputs": []
    },
    {
      "cell_type": "markdown",
      "metadata": {
        "id": "UbKP1Z_c0d9k"
      },
      "source": [
        "#Bölüm 09: Modüller ve Paketler"
      ]
    },
    {
      "cell_type": "markdown",
      "metadata": {
        "id": "KyJG2zkhzLD7"
      },
      "source": [
        "##Modülün İçe Aktarılması\n",
        "Python'daki modüller, Python tanımlarını (sınıflar, fonksiyonlar vb.) ve ifadelerini (değişkenler, listeler, sözlükler vb.) içeren .py uzantısına sahip Python dosyalarıdır.\n",
        "\n",
        "Modüller, *import* anahtar sözcüğü ve uzantı olmadan dosya adı kullanılarak içe aktarılır. Bir modül, çalışan bir Python betiğine ilk kez yüklendiğinde, modüldeki kodun bir kez çalıştırılmasıyla başlatılır."
      ]
    },
    {
      "cell_type": "markdown",
      "metadata": {
        "id": "15prWEGSz1SN"
      },
      "source": [
        "**Örnek Uygulama**\n",
        "\n",
        "\n",
        "\n",
        "```\n",
        "#bisiklet.py adlı modülün içeriği\n",
        "\"\"\"\n",
        "Bu modül içinde Bisiklet sınıfı yer almaktadır.\n",
        "\"\"\"\n",
        "class Bisiklet:\n",
        "    renk = \"Kırmızı\"\n",
        "    vites = 1\n",
        "    def ozellikler(self):\n",
        "        ozellikDetay = \"Bu bisiklet %s renkli ve %d viteslidir.\" % (self.renk, self.vites)\n",
        "        return ozellikDetay\n",
        "```\n",
        "\n",
        "\n",
        "\n",
        "```\n",
        "#bisikletler.py adlı Python dosyasının içeriği\n",
        "\n",
        "import bisiklet\n",
        "\n",
        "bisiklet1 = bisiklet.Bisiklet()\n",
        "\n",
        "print(\"Bisiklet 1: \" + bisiklet1.ozellikler())\n",
        "\n",
        "```\n",
        "\n"
      ]
    },
    {
      "cell_type": "markdown",
      "metadata": {
        "id": "lmb0EwAx-xYG"
      },
      "source": [
        "**PyCharm Örneği**\n",
        "\n",
        "\n",
        "![bisiklet.py](http://www.madran.net/wp-content/uploads/2020/05/bisikletPY.png) \n",
        "\n",
        "bisiklet.py\n",
        "\n",
        "\n",
        "\n",
        "---\n",
        "\n",
        "\n",
        "\n",
        "![alt text](http://www.madran.net/wp-content/uploads/2020/05/bisikletlerPY.png)\n",
        "\n",
        "bisikletler.py"
      ]
    },
    {
      "cell_type": "markdown",
      "metadata": {
        "id": "btdYo-btCCu5"
      },
      "source": [
        "##Colab'de Modülün İçe Aktarılması\n",
        "\n",
        "Bir önceki bölümde (Modülün İçe Aktarılması) herhangi bir kişisel bilgisayarın sabit diski üzerinde çalışırken yerleşik olmayan (kendi yazdığımız) modülün içe aktarılması yer aldı.\n",
        "\n",
        "Bu bölümde ise Colab üzerinde çalışırken yerleşik olmayan bir modülü nasıl içe aktarılacağı yer almakta."
      ]
    },
    {
      "cell_type": "markdown",
      "metadata": {
        "id": "4KYGmiV4EQwz"
      },
      "source": [
        "**Örnek Uygulama**\n",
        "\n",
        "Aşağıda içeriği görüntülenen *bisiklet.py* adlı Python dosyası Google Drive içerisinde \"BBY162_Python_a_Giris.ipynb\" dosyasının ile aynı klasör içinde bulunmaktadır.\n",
        "\n",
        "```\n",
        "#bisiklet.py adlı modülün içeriği\n",
        "\"\"\"\n",
        "Bu modül içinde Bisiklet sınıfı yer almaktadır.\n",
        "\"\"\"\n",
        "class Bisiklet:\n",
        "    renk = \"Kırmızı\"\n",
        "    vites = 1\n",
        "    def ozellikler(self):\n",
        "        ozellikDetay = \"Bu bisiklet %s renkli ve %d viteslidir.\" % (self.renk, self.vites)\n",
        "        return ozellikDetay\n",
        "```\n"
      ]
    },
    {
      "cell_type": "code",
      "metadata": {
        "id": "slM_q141DkRK"
      },
      "source": [
        "# Google Drive'ın bir disk olarak görülmesi \n",
        "from google.colab import drive\n",
        "drive.mount('gdrive') # bağlanan diskin 'gdrive' adı ile tanımlanması.\n",
        "\n",
        "import sys # bağlanan diskin fiziksel yolunun tespit edilmesi ve bağlantı yoluna eklenmesi\n",
        "sys.path.append('/content/gdrive/My Drive/Colab Notebooks/BBY162 - Programlama ve Algoritmalar/')\n",
        "\n",
        "import bisiklet # bisiklet.py içerisindeki 'bisiklet' sınıfının içe aktarılması\n",
        "\n",
        "bisiklet1 = bisiklet.Bisiklet()\n",
        "print(\"Bisiklet 1: \" + bisiklet1.ozellikler())"
      ],
      "execution_count": null,
      "outputs": []
    },
    {
      "cell_type": "markdown",
      "metadata": {
        "id": "tVPUaDwZBfrc"
      },
      "source": [
        "##Yerleşik Modüller (built-in)\n",
        "Python aşağıdaki bağlantıda yer alan standart modüllerle birlikte gelir. Bu modüllerin *import* anahtar kelimesi ile çağrılması yeterlidir. Ayrıca bu modüllerin yüklenmesine gerek yoktur.\n",
        "\n",
        "[Python Standart Modülleri](https://docs.python.org/3/library/)"
      ]
    },
    {
      "cell_type": "markdown",
      "metadata": {
        "id": "1UvfkosdCOQW"
      },
      "source": [
        "**Örnek Uygulama**\n",
        "\n",
        "\n",
        "```\n",
        "import datetime\n",
        "print(datetime.datetime.today())\n",
        "```\n",
        "\n"
      ]
    },
    {
      "cell_type": "code",
      "metadata": {
        "id": "CKTfLO0PH3mF"
      },
      "source": [
        "# Örnek uygulamayı çalıştır \n",
        "\n",
        "import datetime\n",
        "print(datetime.datetime.today())"
      ],
      "execution_count": null,
      "outputs": []
    },
    {
      "cell_type": "markdown",
      "metadata": {
        "id": "nqSNESNxDoVL"
      },
      "source": [
        "##from import Kullanımı\n",
        "İçe aktarma ifadesinin bir başka kullanım şekli *from* anahtar kelimesinin kullanılmasıdır. *from* ifadesi ile modül adları paketin içinde alınarak direkt kullanıma hazır hale getirilir. Bu şekilde, içe aktarılan modül, modül_adı öneki olmadan doğrudan kullanılır."
      ]
    },
    {
      "cell_type": "markdown",
      "metadata": {
        "id": "ccZnbUVLE9hg"
      },
      "source": [
        "**Örnek Uygulama**\n",
        "\n",
        "\n",
        "\n",
        "```\n",
        "#bisiklet.py adlı modülün içeriği\n",
        "\"\"\"\n",
        "Bu modül içinde Bisiklet sınıfı yer almaktadır.\n",
        "\"\"\"\n",
        "class Bisiklet:\n",
        "    renk = \"Kırmızı\"\n",
        "    vites = 1\n",
        "    def ozellikler(self):\n",
        "        ozellikDetay = \"Bu bisiklet %s renkli ve %d viteslidir.\" % (self.renk, self.vites)\n",
        "        return ozellikDetay\n",
        "```\n"
      ]
    },
    {
      "cell_type": "code",
      "metadata": {
        "id": "HxSSqtqMIYpS"
      },
      "source": [
        "# Google Drive'ın bir disk olarak görülmesi \n",
        "from google.colab import drive\n",
        "drive.mount('gdrive') # bağlanan diskin 'gdrive' adı ile tanımlanması.\n",
        "\n",
        "import sys # bağlanan diskin fiziksel yolunun tespit edilmesi ve bağlantı yoluna eklenmesi\n",
        "sys.path.append('/content/gdrive/My Drive/Colab Notebooks/BBY162 - Programlama ve Algoritmalar/')\n",
        "\n",
        "from bisiklet import Bisiklet # bisiklet.py içerisindeki 'bisiklet' sınıfının içe aktarılması\n",
        "\n",
        "bisiklet1 = Bisiklet() # bisiklet ön tanımlamasına gerek kalmadı\n",
        "print(\"Bisiklet 1: \" + bisiklet1.ozellikler())"
      ],
      "execution_count": null,
      "outputs": []
    },
    {
      "cell_type": "markdown",
      "metadata": {
        "id": "8s0bn98LFdh4"
      },
      "source": [
        "#Bölüm 10: Dosya İşlemleri"
      ]
    },
    {
      "cell_type": "markdown",
      "metadata": {
        "id": "cTf7unkXFtRi"
      },
      "source": [
        "##Dosya Okuma\n",
        "Python, bilgisayarınızdaki bir dosyadan bilgi okumak ve yazmak için bir dizi yerleşik fonksiyona sahiptir. **open** fonksiyonu bir dosyayı açmak için kullanılır. Dosya, okuma modunda (ikinci argüman olarak \"r\" kullanılarak) veya yazma modunda (ikinci argüman olarak \"w\" kullanılarak) açılabilir. **open** fonksiyonu dosya nesnesini döndürür. Dosyanın saklanması için kapatılması gerekir."
      ]
    },
    {
      "cell_type": "markdown",
      "metadata": {
        "id": "SV9N24JsRqbk"
      },
      "source": [
        "**Örnek Uygulama**\n",
        "\n",
        "\n",
        "```\n",
        "#Google Drive Bağlantısı\n",
        "from google.colab import drive\n",
        "drive.mount('/gdrive')\n",
        "\n",
        "dosya = \"/gdrive/My Drive/Colab Notebooks/BBY162 - Programlama ve Algoritmalar/metin.txt\"\n",
        "\n",
        "f = open(dosya, \"r\") \n",
        "\n",
        "for line in f.readlines():\n",
        "    print(line)\n",
        "\n",
        "f.close()\n",
        "```\n",
        "\n",
        "Dosyanın sağlıklı şekilde okunabilmesi için Google Drive ile bağlantının kurulmuş olması ve okunacak dosyanın yolunun tam olarak belirtilmesi gerekmektedir.\n",
        "\n",
        "![Google Drive Colab Klasörü](http://www.madran.net/wp-content/uploads/2020/05/driveMetin.png)"
      ]
    },
    {
      "cell_type": "code",
      "metadata": {
        "id": "3KXhzd_FKMWt"
      },
      "source": [
        "#Google Drive Bağlantısı\n",
        "from google.colab import drive\n",
        "drive.mount('/gdrive')\n",
        "\n",
        "dosya = \"/gdrive/My Drive/Colab Notebooks/BBY162 - Programlama ve Algoritmalar/metin.txt\"\n",
        "\n",
        "f = open(dosya, \"r\") \n",
        "\n",
        "for line in f.readlines():\n",
        "    print(line)\n",
        "\n",
        "f.close()"
      ],
      "execution_count": null,
      "outputs": []
    },
    {
      "cell_type": "markdown",
      "metadata": {
        "id": "pToEIEVUR16I"
      },
      "source": [
        "##Dosya Yazma\n",
        "Bir dosyayı ikinci argüman olarak \"w\" (yazma) kullanarak açarsanız, yeni bir boş dosya oluşturulur. Aynı ada sahip başka bir dosya varsa silineceğini unutmayın. Mevcut bir dosyaya içerik eklemek istiyorsanız \"a\" (ekleme) değiştiricisini kullanmalısınız."
      ]
    },
    {
      "cell_type": "markdown",
      "metadata": {
        "id": "aserUhlGcBVX"
      },
      "source": [
        "**Örnek Uygulama**\n",
        "\n",
        "Aşağıdaki örnekte dosya 'w' parametresi ile açıldığı için var olan dosyanın içindekiler silinir ve yeni veriler dosyaya yazılır. Dosyanın içindeki verilerin kalması ve yeni verilerin eklenmesi isteniyorsa dosya 'a' parametresi ile açılmalıdır.\n",
        "\n",
        "```\n",
        "#Google Drive Bağlantısı\n",
        "from google.colab import drive\n",
        "drive.mount('/gdrive')\n",
        " \n",
        "dosya = \"/gdrive/My Drive/Colab Notebooks/BBY162 - Programlama ve Algoritmalar/cikti.txt\"\n",
        "\n",
        "f = open(dosya, 'w') # Mevcut veriye ek veri yazılması için parametre: 'a'\n",
        "f.write(\"test\") # Her yeni verinin bir alt satıra yazdırılması \"test\\n\"\n",
        "f.close()\n",
        "```\n",
        "\n",
        "Kod çalıştırıldıktan sonra eğer *cikti.txt* adında bir dosya yoksa otomatik olarak oluşturulur ve istenilen içerik yazılır.\n",
        "\n",
        "![Google Drive Colab Klasörü](http://www.madran.net/wp-content/uploads/2020/05/driveColab.png)"
      ]
    },
    {
      "cell_type": "code",
      "metadata": {
        "id": "JGu95coVKdTn"
      },
      "source": [
        "#Google Drive Bağlantısı\n",
        "from google.colab import drive\n",
        "drive.mount('/gdrive')\n",
        " \n",
        "dosya = \"/gdrive/My Drive/Colab Notebooks/BBY162 - Programlama ve Algoritmalar/cikti.txt\"\n",
        "\n",
        "f = open(dosya, 'w') # Mevcut veriye ek veri yazılması için parametre: 'a'\n",
        "f.write(\"test\") # Her yeni verinin bir alt satıra yazdırılması \"test\\n\"\n",
        "f.close()"
      ],
      "execution_count": null,
      "outputs": []
    }
  ]
}